{
 "cells": [
  {
   "cell_type": "code",
   "execution_count": 1,
   "id": "7387979a",
   "metadata": {},
   "outputs": [],
   "source": [
    "import numpy as np"
   ]
  },
  {
   "cell_type": "code",
   "execution_count": 11,
   "id": "ed76b9cd",
   "metadata": {},
   "outputs": [],
   "source": [
    "from pprint import pprint"
   ]
  },
  {
   "cell_type": "code",
   "execution_count": 2,
   "id": "1b2b49c8",
   "metadata": {},
   "outputs": [
    {
     "data": {
      "text/plain": [
       "array([0, 1, 2, 3, 4, 5, 6, 7, 8])"
      ]
     },
     "execution_count": 2,
     "metadata": {},
     "output_type": "execute_result"
    }
   ],
   "source": [
    "a= np.arange(0,9)\n",
    "a"
   ]
  },
  {
   "cell_type": "code",
   "execution_count": 4,
   "id": "007fb551",
   "metadata": {},
   "outputs": [
    {
     "data": {
      "text/plain": [
       "array([[0, 1, 2],\n",
       "       [3, 4, 5],\n",
       "       [6, 7, 8]])"
      ]
     },
     "execution_count": 4,
     "metadata": {},
     "output_type": "execute_result"
    }
   ],
   "source": [
    "b=np.array(a).reshape([3,3])\n",
    "b\n"
   ]
  },
  {
   "cell_type": "code",
   "execution_count": 10,
   "id": "3d62e86d",
   "metadata": {},
   "outputs": [
    {
     "data": {
      "text/plain": [
       "array([3., 4., 5.])"
      ]
     },
     "execution_count": 10,
     "metadata": {},
     "output_type": "execute_result"
    }
   ],
   "source": [
    "b.mean(0)"
   ]
  },
  {
   "cell_type": "code",
   "execution_count": 12,
   "id": "7206cd01",
   "metadata": {},
   "outputs": [],
   "source": [
    "def calculate(arr):\n",
    "    if len(arr) != 9:\n",
    "        raise ValueError(\"List must contain nine numbers.\")\n",
    "\n",
    "    m = np.array(arr).reshape([3, 3])\n",
    "    r = {\n",
    "        \"mean\": [m.mean(0).tolist(), m.mean(1).tolist(), m.mean()],\n",
    "        \"variance\": [m.var(0).tolist(), m.var(1).tolist(), m.var()],\n",
    "        \"standard deviation\": [m.std(0).tolist(), m.std(1).tolist(), m.std()],\n",
    "        \"max\": [m.max(0).tolist(), m.max(1).tolist(), m.max()],\n",
    "        \"min\": [m.min(0).tolist(), m.min(1).tolist(), m.min()],\n",
    "        \"sum\": [m.sum(0).tolist(), m.sum(1).tolist(), m.sum()],\n",
    "    }\n",
    "    return r"
   ]
  },
  {
   "cell_type": "code",
   "execution_count": 13,
   "id": "63d9132e",
   "metadata": {},
   "outputs": [
    {
     "name": "stdout",
     "output_type": "stream",
     "text": [
      "{'max': [[6, 7, 8], [2, 5, 8], 8],\n",
      " 'mean': [[3.0, 4.0, 5.0], [1.0, 4.0, 7.0], 4.0],\n",
      " 'min': [[0, 1, 2], [0, 3, 6], 0],\n",
      " 'standard deviation': [[2.449489742783178,\n",
      "                         2.449489742783178,\n",
      "                         2.449489742783178],\n",
      "                        [0.816496580927726,\n",
      "                         0.816496580927726,\n",
      "                         0.816496580927726],\n",
      "                        2.581988897471611],\n",
      " 'sum': [[9, 12, 15], [3, 12, 21], 36],\n",
      " 'variance': [[6.0, 6.0, 6.0],\n",
      "              [0.6666666666666666, 0.6666666666666666, 0.6666666666666666],\n",
      "              6.666666666666667]}\n"
     ]
    }
   ],
   "source": [
    "pprint(calculate([i for i in range(0, 9)]))"
   ]
  },
  {
   "cell_type": "code",
   "execution_count": null,
   "id": "a9a37b07",
   "metadata": {},
   "outputs": [],
   "source": []
  }
 ],
 "metadata": {
  "kernelspec": {
   "display_name": "Python 3 (ipykernel)",
   "language": "python",
   "name": "python3"
  },
  "language_info": {
   "codemirror_mode": {
    "name": "ipython",
    "version": 3
   },
   "file_extension": ".py",
   "mimetype": "text/x-python",
   "name": "python",
   "nbconvert_exporter": "python",
   "pygments_lexer": "ipython3",
   "version": "3.9.13"
  }
 },
 "nbformat": 4,
 "nbformat_minor": 5
}
