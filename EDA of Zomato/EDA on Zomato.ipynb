{
 "cells": [
  {
   "cell_type": "markdown",
   "id": "e7b18476",
   "metadata": {},
   "source": [
    "# EDA ON ZOMATO DATASET\n",
    "\n",
    "\n",
    "## About Dataset\n",
    "\n",
    "This dataset contains the collection of all the zomato associated resturants in the Indian city of Banglore. \n",
    "Its a fairly large dataset having 51717 rows ands 17 columns."
   ]
  },
  {
   "cell_type": "code",
   "execution_count": 1,
   "id": "b5a22b13",
   "metadata": {},
   "outputs": [],
   "source": [
    "# Lets import the required libraries\n",
    "\n",
    "import numpy as np\n",
    "import pandas as pd\n",
    "import matplotlib.pyplot as plt\n",
    "import seaborn as sns\n"
   ]
  },
  {
   "cell_type": "code",
   "execution_count": 2,
   "id": "8a6487fe",
   "metadata": {},
   "outputs": [
    {
     "data": {
      "text/html": [
       "<div>\n",
       "<style scoped>\n",
       "    .dataframe tbody tr th:only-of-type {\n",
       "        vertical-align: middle;\n",
       "    }\n",
       "\n",
       "    .dataframe tbody tr th {\n",
       "        vertical-align: top;\n",
       "    }\n",
       "\n",
       "    .dataframe thead th {\n",
       "        text-align: right;\n",
       "    }\n",
       "</style>\n",
       "<table border=\"1\" class=\"dataframe\">\n",
       "  <thead>\n",
       "    <tr style=\"text-align: right;\">\n",
       "      <th></th>\n",
       "      <th>url</th>\n",
       "      <th>address</th>\n",
       "      <th>name</th>\n",
       "      <th>online_order</th>\n",
       "      <th>book_table</th>\n",
       "      <th>rate</th>\n",
       "      <th>votes</th>\n",
       "      <th>phone</th>\n",
       "      <th>location</th>\n",
       "      <th>rest_type</th>\n",
       "      <th>dish_liked</th>\n",
       "      <th>cuisines</th>\n",
       "      <th>approx_cost(for two people)</th>\n",
       "      <th>reviews_list</th>\n",
       "      <th>menu_item</th>\n",
       "      <th>listed_in(type)</th>\n",
       "      <th>listed_in(city)</th>\n",
       "    </tr>\n",
       "  </thead>\n",
       "  <tbody>\n",
       "    <tr>\n",
       "      <th>0</th>\n",
       "      <td>https://www.zomato.com/bangalore/jalsa-banasha...</td>\n",
       "      <td>942, 21st Main Road, 2nd Stage, Banashankari, ...</td>\n",
       "      <td>Jalsa</td>\n",
       "      <td>Yes</td>\n",
       "      <td>Yes</td>\n",
       "      <td>4.1/5</td>\n",
       "      <td>775</td>\n",
       "      <td>080 42297555\\r\\n+91 9743772233</td>\n",
       "      <td>Banashankari</td>\n",
       "      <td>Casual Dining</td>\n",
       "      <td>Pasta, Lunch Buffet, Masala Papad, Paneer Laja...</td>\n",
       "      <td>North Indian, Mughlai, Chinese</td>\n",
       "      <td>800</td>\n",
       "      <td>[('Rated 4.0', 'RATED\\n  A beautiful place to ...</td>\n",
       "      <td>[]</td>\n",
       "      <td>Buffet</td>\n",
       "      <td>Banashankari</td>\n",
       "    </tr>\n",
       "    <tr>\n",
       "      <th>1</th>\n",
       "      <td>https://www.zomato.com/bangalore/spice-elephan...</td>\n",
       "      <td>2nd Floor, 80 Feet Road, Near Big Bazaar, 6th ...</td>\n",
       "      <td>Spice Elephant</td>\n",
       "      <td>Yes</td>\n",
       "      <td>No</td>\n",
       "      <td>4.1/5</td>\n",
       "      <td>787</td>\n",
       "      <td>080 41714161</td>\n",
       "      <td>Banashankari</td>\n",
       "      <td>Casual Dining</td>\n",
       "      <td>Momos, Lunch Buffet, Chocolate Nirvana, Thai G...</td>\n",
       "      <td>Chinese, North Indian, Thai</td>\n",
       "      <td>800</td>\n",
       "      <td>[('Rated 4.0', 'RATED\\n  Had been here for din...</td>\n",
       "      <td>[]</td>\n",
       "      <td>Buffet</td>\n",
       "      <td>Banashankari</td>\n",
       "    </tr>\n",
       "    <tr>\n",
       "      <th>2</th>\n",
       "      <td>https://www.zomato.com/SanchurroBangalore?cont...</td>\n",
       "      <td>1112, Next to KIMS Medical College, 17th Cross...</td>\n",
       "      <td>San Churro Cafe</td>\n",
       "      <td>Yes</td>\n",
       "      <td>No</td>\n",
       "      <td>3.8/5</td>\n",
       "      <td>918</td>\n",
       "      <td>+91 9663487993</td>\n",
       "      <td>Banashankari</td>\n",
       "      <td>Cafe, Casual Dining</td>\n",
       "      <td>Churros, Cannelloni, Minestrone Soup, Hot Choc...</td>\n",
       "      <td>Cafe, Mexican, Italian</td>\n",
       "      <td>800</td>\n",
       "      <td>[('Rated 3.0', \"RATED\\n  Ambience is not that ...</td>\n",
       "      <td>[]</td>\n",
       "      <td>Buffet</td>\n",
       "      <td>Banashankari</td>\n",
       "    </tr>\n",
       "    <tr>\n",
       "      <th>3</th>\n",
       "      <td>https://www.zomato.com/bangalore/addhuri-udupi...</td>\n",
       "      <td>1st Floor, Annakuteera, 3rd Stage, Banashankar...</td>\n",
       "      <td>Addhuri Udupi Bhojana</td>\n",
       "      <td>No</td>\n",
       "      <td>No</td>\n",
       "      <td>3.7/5</td>\n",
       "      <td>88</td>\n",
       "      <td>+91 9620009302</td>\n",
       "      <td>Banashankari</td>\n",
       "      <td>Quick Bites</td>\n",
       "      <td>Masala Dosa</td>\n",
       "      <td>South Indian, North Indian</td>\n",
       "      <td>300</td>\n",
       "      <td>[('Rated 4.0', \"RATED\\n  Great food and proper...</td>\n",
       "      <td>[]</td>\n",
       "      <td>Buffet</td>\n",
       "      <td>Banashankari</td>\n",
       "    </tr>\n",
       "    <tr>\n",
       "      <th>4</th>\n",
       "      <td>https://www.zomato.com/bangalore/grand-village...</td>\n",
       "      <td>10, 3rd Floor, Lakshmi Associates, Gandhi Baza...</td>\n",
       "      <td>Grand Village</td>\n",
       "      <td>No</td>\n",
       "      <td>No</td>\n",
       "      <td>3.8/5</td>\n",
       "      <td>166</td>\n",
       "      <td>+91 8026612447\\r\\n+91 9901210005</td>\n",
       "      <td>Basavanagudi</td>\n",
       "      <td>Casual Dining</td>\n",
       "      <td>Panipuri, Gol Gappe</td>\n",
       "      <td>North Indian, Rajasthani</td>\n",
       "      <td>600</td>\n",
       "      <td>[('Rated 4.0', 'RATED\\n  Very good restaurant ...</td>\n",
       "      <td>[]</td>\n",
       "      <td>Buffet</td>\n",
       "      <td>Banashankari</td>\n",
       "    </tr>\n",
       "  </tbody>\n",
       "</table>\n",
       "</div>"
      ],
      "text/plain": [
       "                                                 url  \\\n",
       "0  https://www.zomato.com/bangalore/jalsa-banasha...   \n",
       "1  https://www.zomato.com/bangalore/spice-elephan...   \n",
       "2  https://www.zomato.com/SanchurroBangalore?cont...   \n",
       "3  https://www.zomato.com/bangalore/addhuri-udupi...   \n",
       "4  https://www.zomato.com/bangalore/grand-village...   \n",
       "\n",
       "                                             address                   name  \\\n",
       "0  942, 21st Main Road, 2nd Stage, Banashankari, ...                  Jalsa   \n",
       "1  2nd Floor, 80 Feet Road, Near Big Bazaar, 6th ...         Spice Elephant   \n",
       "2  1112, Next to KIMS Medical College, 17th Cross...        San Churro Cafe   \n",
       "3  1st Floor, Annakuteera, 3rd Stage, Banashankar...  Addhuri Udupi Bhojana   \n",
       "4  10, 3rd Floor, Lakshmi Associates, Gandhi Baza...          Grand Village   \n",
       "\n",
       "  online_order book_table   rate  votes                             phone  \\\n",
       "0          Yes        Yes  4.1/5    775    080 42297555\\r\\n+91 9743772233   \n",
       "1          Yes         No  4.1/5    787                      080 41714161   \n",
       "2          Yes         No  3.8/5    918                    +91 9663487993   \n",
       "3           No         No  3.7/5     88                    +91 9620009302   \n",
       "4           No         No  3.8/5    166  +91 8026612447\\r\\n+91 9901210005   \n",
       "\n",
       "       location            rest_type  \\\n",
       "0  Banashankari        Casual Dining   \n",
       "1  Banashankari        Casual Dining   \n",
       "2  Banashankari  Cafe, Casual Dining   \n",
       "3  Banashankari          Quick Bites   \n",
       "4  Basavanagudi        Casual Dining   \n",
       "\n",
       "                                          dish_liked  \\\n",
       "0  Pasta, Lunch Buffet, Masala Papad, Paneer Laja...   \n",
       "1  Momos, Lunch Buffet, Chocolate Nirvana, Thai G...   \n",
       "2  Churros, Cannelloni, Minestrone Soup, Hot Choc...   \n",
       "3                                        Masala Dosa   \n",
       "4                                Panipuri, Gol Gappe   \n",
       "\n",
       "                         cuisines approx_cost(for two people)  \\\n",
       "0  North Indian, Mughlai, Chinese                         800   \n",
       "1     Chinese, North Indian, Thai                         800   \n",
       "2          Cafe, Mexican, Italian                         800   \n",
       "3      South Indian, North Indian                         300   \n",
       "4        North Indian, Rajasthani                         600   \n",
       "\n",
       "                                        reviews_list menu_item  \\\n",
       "0  [('Rated 4.0', 'RATED\\n  A beautiful place to ...        []   \n",
       "1  [('Rated 4.0', 'RATED\\n  Had been here for din...        []   \n",
       "2  [('Rated 3.0', \"RATED\\n  Ambience is not that ...        []   \n",
       "3  [('Rated 4.0', \"RATED\\n  Great food and proper...        []   \n",
       "4  [('Rated 4.0', 'RATED\\n  Very good restaurant ...        []   \n",
       "\n",
       "  listed_in(type) listed_in(city)  \n",
       "0          Buffet    Banashankari  \n",
       "1          Buffet    Banashankari  \n",
       "2          Buffet    Banashankari  \n",
       "3          Buffet    Banashankari  \n",
       "4          Buffet    Banashankari  "
      ]
     },
     "execution_count": 2,
     "metadata": {},
     "output_type": "execute_result"
    }
   ],
   "source": [
    "#Display the dataset\n",
    "\n",
    "df=pd.read_csv('zomato.csv')\n",
    "df.head()                                      #.head() usually prints first 5 entries\n",
    "\n",
    "# Looking last 5 rows of dataset \n",
    "#df.tail()"
   ]
  },
  {
   "cell_type": "code",
   "execution_count": 3,
   "id": "60a46208",
   "metadata": {},
   "outputs": [
    {
     "data": {
      "text/plain": [
       "(51717, 17)"
      ]
     },
     "execution_count": 3,
     "metadata": {},
     "output_type": "execute_result"
    }
   ],
   "source": [
    "# Check the shape of the dataset\n",
    "\n",
    "df.shape"
   ]
  },
  {
   "cell_type": "markdown",
   "id": "5cd325e5",
   "metadata": {},
   "source": [
    "as we see that given datset is quite large, since there are 51717 number of Rows and 17 number of columns or features present."
   ]
  },
  {
   "cell_type": "code",
   "execution_count": 4,
   "id": "bcff3e31",
   "metadata": {},
   "outputs": [
    {
     "data": {
      "text/plain": [
       "Index(['url', 'address', 'name', 'online_order', 'book_table', 'rate', 'votes',\n",
       "       'phone', 'location', 'rest_type', 'dish_liked', 'cuisines',\n",
       "       'approx_cost(for two people)', 'reviews_list', 'menu_item',\n",
       "       'listed_in(type)', 'listed_in(city)'],\n",
       "      dtype='object')"
      ]
     },
     "execution_count": 4,
     "metadata": {},
     "output_type": "execute_result"
    }
   ],
   "source": [
    "# Checking the feature name \n",
    "df.columns"
   ]
  },
  {
   "cell_type": "code",
   "execution_count": 5,
   "id": "4886076d",
   "metadata": {},
   "outputs": [
    {
     "data": {
      "text/plain": [
       "url                            object\n",
       "address                        object\n",
       "name                           object\n",
       "online_order                   object\n",
       "book_table                     object\n",
       "rate                           object\n",
       "votes                           int64\n",
       "phone                          object\n",
       "location                       object\n",
       "rest_type                      object\n",
       "dish_liked                     object\n",
       "cuisines                       object\n",
       "approx_cost(for two people)    object\n",
       "reviews_list                   object\n",
       "menu_item                      object\n",
       "listed_in(type)                object\n",
       "listed_in(city)                object\n",
       "dtype: object"
      ]
     },
     "execution_count": 5,
     "metadata": {},
     "output_type": "execute_result"
    }
   ],
   "source": [
    "df.dtypes"
   ]
  },
  {
   "cell_type": "code",
   "execution_count": 6,
   "id": "84665044",
   "metadata": {},
   "outputs": [
    {
     "name": "stdout",
     "output_type": "stream",
     "text": [
      "<class 'pandas.core.frame.DataFrame'>\n",
      "RangeIndex: 51717 entries, 0 to 51716\n",
      "Data columns (total 17 columns):\n",
      " #   Column                       Non-Null Count  Dtype \n",
      "---  ------                       --------------  ----- \n",
      " 0   url                          51717 non-null  object\n",
      " 1   address                      51717 non-null  object\n",
      " 2   name                         51717 non-null  object\n",
      " 3   online_order                 51717 non-null  object\n",
      " 4   book_table                   51717 non-null  object\n",
      " 5   rate                         43942 non-null  object\n",
      " 6   votes                        51717 non-null  int64 \n",
      " 7   phone                        50509 non-null  object\n",
      " 8   location                     51696 non-null  object\n",
      " 9   rest_type                    51490 non-null  object\n",
      " 10  dish_liked                   23639 non-null  object\n",
      " 11  cuisines                     51672 non-null  object\n",
      " 12  approx_cost(for two people)  51371 non-null  object\n",
      " 13  reviews_list                 51717 non-null  object\n",
      " 14  menu_item                    51717 non-null  object\n",
      " 15  listed_in(type)              51717 non-null  object\n",
      " 16  listed_in(city)              51717 non-null  object\n",
      "dtypes: int64(1), object(16)\n",
      "memory usage: 6.7+ MB\n"
     ]
    }
   ],
   "source": [
    "df.info()"
   ]
  },
  {
   "cell_type": "markdown",
   "id": "2343effc",
   "metadata": {},
   "source": [
    "1) As we see that there are 16 categorical features and only 1 numeric feature.\n",
    "\n",
    "2) but by observing dataset we can infer that there are some features that are not actualy categorical so we have to perform encoding to convert them into numerical features, we will se them later."
   ]
  },
  {
   "cell_type": "code",
   "execution_count": 7,
   "id": "a6a337ec",
   "metadata": {},
   "outputs": [
    {
     "data": {
      "text/html": [
       "<div>\n",
       "<style scoped>\n",
       "    .dataframe tbody tr th:only-of-type {\n",
       "        vertical-align: middle;\n",
       "    }\n",
       "\n",
       "    .dataframe tbody tr th {\n",
       "        vertical-align: top;\n",
       "    }\n",
       "\n",
       "    .dataframe thead th {\n",
       "        text-align: right;\n",
       "    }\n",
       "</style>\n",
       "<table border=\"1\" class=\"dataframe\">\n",
       "  <thead>\n",
       "    <tr style=\"text-align: right;\">\n",
       "      <th></th>\n",
       "      <th>url</th>\n",
       "      <th>address</th>\n",
       "      <th>name</th>\n",
       "      <th>online_order</th>\n",
       "      <th>book_table</th>\n",
       "      <th>rate</th>\n",
       "      <th>votes</th>\n",
       "      <th>phone</th>\n",
       "      <th>location</th>\n",
       "      <th>rest_type</th>\n",
       "      <th>dish_liked</th>\n",
       "      <th>cuisines</th>\n",
       "      <th>approx_cost(for two people)</th>\n",
       "      <th>reviews_list</th>\n",
       "      <th>menu_item</th>\n",
       "      <th>listed_in(type)</th>\n",
       "      <th>listed_in(city)</th>\n",
       "    </tr>\n",
       "  </thead>\n",
       "  <tbody>\n",
       "    <tr>\n",
       "      <th>count</th>\n",
       "      <td>51717</td>\n",
       "      <td>51717</td>\n",
       "      <td>51717</td>\n",
       "      <td>51717</td>\n",
       "      <td>51717</td>\n",
       "      <td>43942</td>\n",
       "      <td>51717.000000</td>\n",
       "      <td>50509</td>\n",
       "      <td>51696</td>\n",
       "      <td>51490</td>\n",
       "      <td>23639</td>\n",
       "      <td>51672</td>\n",
       "      <td>51371</td>\n",
       "      <td>51717</td>\n",
       "      <td>51717</td>\n",
       "      <td>51717</td>\n",
       "      <td>51717</td>\n",
       "    </tr>\n",
       "    <tr>\n",
       "      <th>unique</th>\n",
       "      <td>51717</td>\n",
       "      <td>11495</td>\n",
       "      <td>8792</td>\n",
       "      <td>2</td>\n",
       "      <td>2</td>\n",
       "      <td>64</td>\n",
       "      <td>NaN</td>\n",
       "      <td>14926</td>\n",
       "      <td>93</td>\n",
       "      <td>93</td>\n",
       "      <td>5271</td>\n",
       "      <td>2723</td>\n",
       "      <td>70</td>\n",
       "      <td>22513</td>\n",
       "      <td>9098</td>\n",
       "      <td>7</td>\n",
       "      <td>30</td>\n",
       "    </tr>\n",
       "    <tr>\n",
       "      <th>top</th>\n",
       "      <td>https://www.zomato.com/bangalore/jalsa-banasha...</td>\n",
       "      <td>Delivery Only</td>\n",
       "      <td>Cafe Coffee Day</td>\n",
       "      <td>Yes</td>\n",
       "      <td>No</td>\n",
       "      <td>NEW</td>\n",
       "      <td>NaN</td>\n",
       "      <td>080 43334321</td>\n",
       "      <td>BTM</td>\n",
       "      <td>Quick Bites</td>\n",
       "      <td>Biryani</td>\n",
       "      <td>North Indian</td>\n",
       "      <td>300</td>\n",
       "      <td>[]</td>\n",
       "      <td>[]</td>\n",
       "      <td>Delivery</td>\n",
       "      <td>BTM</td>\n",
       "    </tr>\n",
       "    <tr>\n",
       "      <th>freq</th>\n",
       "      <td>1</td>\n",
       "      <td>128</td>\n",
       "      <td>96</td>\n",
       "      <td>30444</td>\n",
       "      <td>45268</td>\n",
       "      <td>2208</td>\n",
       "      <td>NaN</td>\n",
       "      <td>216</td>\n",
       "      <td>5124</td>\n",
       "      <td>19132</td>\n",
       "      <td>182</td>\n",
       "      <td>2913</td>\n",
       "      <td>7576</td>\n",
       "      <td>7595</td>\n",
       "      <td>39617</td>\n",
       "      <td>25942</td>\n",
       "      <td>3279</td>\n",
       "    </tr>\n",
       "    <tr>\n",
       "      <th>mean</th>\n",
       "      <td>NaN</td>\n",
       "      <td>NaN</td>\n",
       "      <td>NaN</td>\n",
       "      <td>NaN</td>\n",
       "      <td>NaN</td>\n",
       "      <td>NaN</td>\n",
       "      <td>283.697527</td>\n",
       "      <td>NaN</td>\n",
       "      <td>NaN</td>\n",
       "      <td>NaN</td>\n",
       "      <td>NaN</td>\n",
       "      <td>NaN</td>\n",
       "      <td>NaN</td>\n",
       "      <td>NaN</td>\n",
       "      <td>NaN</td>\n",
       "      <td>NaN</td>\n",
       "      <td>NaN</td>\n",
       "    </tr>\n",
       "    <tr>\n",
       "      <th>std</th>\n",
       "      <td>NaN</td>\n",
       "      <td>NaN</td>\n",
       "      <td>NaN</td>\n",
       "      <td>NaN</td>\n",
       "      <td>NaN</td>\n",
       "      <td>NaN</td>\n",
       "      <td>803.838853</td>\n",
       "      <td>NaN</td>\n",
       "      <td>NaN</td>\n",
       "      <td>NaN</td>\n",
       "      <td>NaN</td>\n",
       "      <td>NaN</td>\n",
       "      <td>NaN</td>\n",
       "      <td>NaN</td>\n",
       "      <td>NaN</td>\n",
       "      <td>NaN</td>\n",
       "      <td>NaN</td>\n",
       "    </tr>\n",
       "    <tr>\n",
       "      <th>min</th>\n",
       "      <td>NaN</td>\n",
       "      <td>NaN</td>\n",
       "      <td>NaN</td>\n",
       "      <td>NaN</td>\n",
       "      <td>NaN</td>\n",
       "      <td>NaN</td>\n",
       "      <td>0.000000</td>\n",
       "      <td>NaN</td>\n",
       "      <td>NaN</td>\n",
       "      <td>NaN</td>\n",
       "      <td>NaN</td>\n",
       "      <td>NaN</td>\n",
       "      <td>NaN</td>\n",
       "      <td>NaN</td>\n",
       "      <td>NaN</td>\n",
       "      <td>NaN</td>\n",
       "      <td>NaN</td>\n",
       "    </tr>\n",
       "    <tr>\n",
       "      <th>25%</th>\n",
       "      <td>NaN</td>\n",
       "      <td>NaN</td>\n",
       "      <td>NaN</td>\n",
       "      <td>NaN</td>\n",
       "      <td>NaN</td>\n",
       "      <td>NaN</td>\n",
       "      <td>7.000000</td>\n",
       "      <td>NaN</td>\n",
       "      <td>NaN</td>\n",
       "      <td>NaN</td>\n",
       "      <td>NaN</td>\n",
       "      <td>NaN</td>\n",
       "      <td>NaN</td>\n",
       "      <td>NaN</td>\n",
       "      <td>NaN</td>\n",
       "      <td>NaN</td>\n",
       "      <td>NaN</td>\n",
       "    </tr>\n",
       "    <tr>\n",
       "      <th>50%</th>\n",
       "      <td>NaN</td>\n",
       "      <td>NaN</td>\n",
       "      <td>NaN</td>\n",
       "      <td>NaN</td>\n",
       "      <td>NaN</td>\n",
       "      <td>NaN</td>\n",
       "      <td>41.000000</td>\n",
       "      <td>NaN</td>\n",
       "      <td>NaN</td>\n",
       "      <td>NaN</td>\n",
       "      <td>NaN</td>\n",
       "      <td>NaN</td>\n",
       "      <td>NaN</td>\n",
       "      <td>NaN</td>\n",
       "      <td>NaN</td>\n",
       "      <td>NaN</td>\n",
       "      <td>NaN</td>\n",
       "    </tr>\n",
       "    <tr>\n",
       "      <th>75%</th>\n",
       "      <td>NaN</td>\n",
       "      <td>NaN</td>\n",
       "      <td>NaN</td>\n",
       "      <td>NaN</td>\n",
       "      <td>NaN</td>\n",
       "      <td>NaN</td>\n",
       "      <td>198.000000</td>\n",
       "      <td>NaN</td>\n",
       "      <td>NaN</td>\n",
       "      <td>NaN</td>\n",
       "      <td>NaN</td>\n",
       "      <td>NaN</td>\n",
       "      <td>NaN</td>\n",
       "      <td>NaN</td>\n",
       "      <td>NaN</td>\n",
       "      <td>NaN</td>\n",
       "      <td>NaN</td>\n",
       "    </tr>\n",
       "    <tr>\n",
       "      <th>max</th>\n",
       "      <td>NaN</td>\n",
       "      <td>NaN</td>\n",
       "      <td>NaN</td>\n",
       "      <td>NaN</td>\n",
       "      <td>NaN</td>\n",
       "      <td>NaN</td>\n",
       "      <td>16832.000000</td>\n",
       "      <td>NaN</td>\n",
       "      <td>NaN</td>\n",
       "      <td>NaN</td>\n",
       "      <td>NaN</td>\n",
       "      <td>NaN</td>\n",
       "      <td>NaN</td>\n",
       "      <td>NaN</td>\n",
       "      <td>NaN</td>\n",
       "      <td>NaN</td>\n",
       "      <td>NaN</td>\n",
       "    </tr>\n",
       "  </tbody>\n",
       "</table>\n",
       "</div>"
      ],
      "text/plain": [
       "                                                      url        address  \\\n",
       "count                                               51717          51717   \n",
       "unique                                              51717          11495   \n",
       "top     https://www.zomato.com/bangalore/jalsa-banasha...  Delivery Only   \n",
       "freq                                                    1            128   \n",
       "mean                                                  NaN            NaN   \n",
       "std                                                   NaN            NaN   \n",
       "min                                                   NaN            NaN   \n",
       "25%                                                   NaN            NaN   \n",
       "50%                                                   NaN            NaN   \n",
       "75%                                                   NaN            NaN   \n",
       "max                                                   NaN            NaN   \n",
       "\n",
       "                   name online_order book_table   rate         votes  \\\n",
       "count             51717        51717      51717  43942  51717.000000   \n",
       "unique             8792            2          2     64           NaN   \n",
       "top     Cafe Coffee Day          Yes         No    NEW           NaN   \n",
       "freq                 96        30444      45268   2208           NaN   \n",
       "mean                NaN          NaN        NaN    NaN    283.697527   \n",
       "std                 NaN          NaN        NaN    NaN    803.838853   \n",
       "min                 NaN          NaN        NaN    NaN      0.000000   \n",
       "25%                 NaN          NaN        NaN    NaN      7.000000   \n",
       "50%                 NaN          NaN        NaN    NaN     41.000000   \n",
       "75%                 NaN          NaN        NaN    NaN    198.000000   \n",
       "max                 NaN          NaN        NaN    NaN  16832.000000   \n",
       "\n",
       "               phone location    rest_type dish_liked      cuisines  \\\n",
       "count          50509    51696        51490      23639         51672   \n",
       "unique         14926       93           93       5271          2723   \n",
       "top     080 43334321      BTM  Quick Bites    Biryani  North Indian   \n",
       "freq             216     5124        19132        182          2913   \n",
       "mean             NaN      NaN          NaN        NaN           NaN   \n",
       "std              NaN      NaN          NaN        NaN           NaN   \n",
       "min              NaN      NaN          NaN        NaN           NaN   \n",
       "25%              NaN      NaN          NaN        NaN           NaN   \n",
       "50%              NaN      NaN          NaN        NaN           NaN   \n",
       "75%              NaN      NaN          NaN        NaN           NaN   \n",
       "max              NaN      NaN          NaN        NaN           NaN   \n",
       "\n",
       "       approx_cost(for two people) reviews_list menu_item listed_in(type)  \\\n",
       "count                        51371        51717     51717           51717   \n",
       "unique                          70        22513      9098               7   \n",
       "top                            300           []        []        Delivery   \n",
       "freq                          7576         7595     39617           25942   \n",
       "mean                           NaN          NaN       NaN             NaN   \n",
       "std                            NaN          NaN       NaN             NaN   \n",
       "min                            NaN          NaN       NaN             NaN   \n",
       "25%                            NaN          NaN       NaN             NaN   \n",
       "50%                            NaN          NaN       NaN             NaN   \n",
       "75%                            NaN          NaN       NaN             NaN   \n",
       "max                            NaN          NaN       NaN             NaN   \n",
       "\n",
       "       listed_in(city)  \n",
       "count            51717  \n",
       "unique              30  \n",
       "top                BTM  \n",
       "freq              3279  \n",
       "mean               NaN  \n",
       "std                NaN  \n",
       "min                NaN  \n",
       "25%                NaN  \n",
       "50%                NaN  \n",
       "75%                NaN  \n",
       "max                NaN  "
      ]
     },
     "execution_count": 7,
     "metadata": {},
     "output_type": "execute_result"
    }
   ],
   "source": [
    "## Checking statistical summary of all features\n",
    "\n",
    "df.describe(include='all')     #'all' : All columns of the input will be included in the output."
   ]
  },
  {
   "cell_type": "markdown",
   "id": "ead94704",
   "metadata": {},
   "source": [
    "## DATA CLEANING"
   ]
  },
  {
   "cell_type": "code",
   "execution_count": 8,
   "id": "f83eac0a",
   "metadata": {},
   "outputs": [
    {
     "data": {
      "text/plain": [
       "url                                0\n",
       "address                            0\n",
       "name                               0\n",
       "online_order                       0\n",
       "book_table                         0\n",
       "rate                            7775\n",
       "votes                              0\n",
       "phone                           1208\n",
       "location                          21\n",
       "rest_type                        227\n",
       "dish_liked                     28078\n",
       "cuisines                          45\n",
       "approx_cost(for two people)      346\n",
       "reviews_list                       0\n",
       "menu_item                          0\n",
       "listed_in(type)                    0\n",
       "listed_in(city)                    0\n",
       "dtype: int64"
      ]
     },
     "execution_count": 8,
     "metadata": {},
     "output_type": "execute_result"
    }
   ],
   "source": [
    "# Checking null values \n",
    "\n",
    "df.isnull().sum()"
   ]
  },
  {
   "cell_type": "markdown",
   "id": "534aa183",
   "metadata": {},
   "source": [
    "## Observations\n",
    "\n",
    "-  so in our dataset some features has null values\n",
    "-  we need to treat these null values to get better analysis of dataset\n",
    "\n",
    "\n",
    "\n",
    "As seen from dataframe we get clear that\n",
    "\n",
    "1) Feature name \"url\" doesnt give much information about exploring dataset bcoz it is nothing but websites unique address\n",
    "\n",
    "2) Feature name \"phone\" also gives only the contact info of restaurants.\n",
    "\n",
    "3) Feature name \"address\" is only the address of that perticular restaurants.\n",
    "\n",
    "4) Feature name \"dish_liked\" gives only which dishes in restaurants are being liked by the users.\n",
    "\n",
    "5) Feature name \"reviews_list\" is reviews by users to that restaurants.\n",
    "\n",
    "6) Feature name \"menu_item\" is menu in restaurants.\n",
    "\n",
    "Since these features in dataset not gives any information other than above mentioned. So it is better to drop them to simplify dataset"
   ]
  },
  {
   "cell_type": "code",
   "execution_count": 9,
   "id": "eab1a47f",
   "metadata": {},
   "outputs": [],
   "source": [
    "# Droppping all unnecessary columns\n",
    "\n",
    "df= df.drop(['url', 'address', 'phone','dish_liked','reviews_list', 'menu_item'], axis=1)"
   ]
  },
  {
   "cell_type": "code",
   "execution_count": 10,
   "id": "2e7cbadb",
   "metadata": {},
   "outputs": [
    {
     "data": {
      "text/html": [
       "<div>\n",
       "<style scoped>\n",
       "    .dataframe tbody tr th:only-of-type {\n",
       "        vertical-align: middle;\n",
       "    }\n",
       "\n",
       "    .dataframe tbody tr th {\n",
       "        vertical-align: top;\n",
       "    }\n",
       "\n",
       "    .dataframe thead th {\n",
       "        text-align: right;\n",
       "    }\n",
       "</style>\n",
       "<table border=\"1\" class=\"dataframe\">\n",
       "  <thead>\n",
       "    <tr style=\"text-align: right;\">\n",
       "      <th></th>\n",
       "      <th>name</th>\n",
       "      <th>online_order</th>\n",
       "      <th>book_table</th>\n",
       "      <th>rate</th>\n",
       "      <th>votes</th>\n",
       "      <th>location</th>\n",
       "      <th>rest_type</th>\n",
       "      <th>cuisines</th>\n",
       "      <th>approx_cost(for two people)</th>\n",
       "      <th>listed_in(type)</th>\n",
       "      <th>listed_in(city)</th>\n",
       "    </tr>\n",
       "  </thead>\n",
       "  <tbody>\n",
       "    <tr>\n",
       "      <th>0</th>\n",
       "      <td>Jalsa</td>\n",
       "      <td>Yes</td>\n",
       "      <td>Yes</td>\n",
       "      <td>4.1/5</td>\n",
       "      <td>775</td>\n",
       "      <td>Banashankari</td>\n",
       "      <td>Casual Dining</td>\n",
       "      <td>North Indian, Mughlai, Chinese</td>\n",
       "      <td>800</td>\n",
       "      <td>Buffet</td>\n",
       "      <td>Banashankari</td>\n",
       "    </tr>\n",
       "    <tr>\n",
       "      <th>1</th>\n",
       "      <td>Spice Elephant</td>\n",
       "      <td>Yes</td>\n",
       "      <td>No</td>\n",
       "      <td>4.1/5</td>\n",
       "      <td>787</td>\n",
       "      <td>Banashankari</td>\n",
       "      <td>Casual Dining</td>\n",
       "      <td>Chinese, North Indian, Thai</td>\n",
       "      <td>800</td>\n",
       "      <td>Buffet</td>\n",
       "      <td>Banashankari</td>\n",
       "    </tr>\n",
       "    <tr>\n",
       "      <th>2</th>\n",
       "      <td>San Churro Cafe</td>\n",
       "      <td>Yes</td>\n",
       "      <td>No</td>\n",
       "      <td>3.8/5</td>\n",
       "      <td>918</td>\n",
       "      <td>Banashankari</td>\n",
       "      <td>Cafe, Casual Dining</td>\n",
       "      <td>Cafe, Mexican, Italian</td>\n",
       "      <td>800</td>\n",
       "      <td>Buffet</td>\n",
       "      <td>Banashankari</td>\n",
       "    </tr>\n",
       "    <tr>\n",
       "      <th>3</th>\n",
       "      <td>Addhuri Udupi Bhojana</td>\n",
       "      <td>No</td>\n",
       "      <td>No</td>\n",
       "      <td>3.7/5</td>\n",
       "      <td>88</td>\n",
       "      <td>Banashankari</td>\n",
       "      <td>Quick Bites</td>\n",
       "      <td>South Indian, North Indian</td>\n",
       "      <td>300</td>\n",
       "      <td>Buffet</td>\n",
       "      <td>Banashankari</td>\n",
       "    </tr>\n",
       "    <tr>\n",
       "      <th>4</th>\n",
       "      <td>Grand Village</td>\n",
       "      <td>No</td>\n",
       "      <td>No</td>\n",
       "      <td>3.8/5</td>\n",
       "      <td>166</td>\n",
       "      <td>Basavanagudi</td>\n",
       "      <td>Casual Dining</td>\n",
       "      <td>North Indian, Rajasthani</td>\n",
       "      <td>600</td>\n",
       "      <td>Buffet</td>\n",
       "      <td>Banashankari</td>\n",
       "    </tr>\n",
       "    <tr>\n",
       "      <th>...</th>\n",
       "      <td>...</td>\n",
       "      <td>...</td>\n",
       "      <td>...</td>\n",
       "      <td>...</td>\n",
       "      <td>...</td>\n",
       "      <td>...</td>\n",
       "      <td>...</td>\n",
       "      <td>...</td>\n",
       "      <td>...</td>\n",
       "      <td>...</td>\n",
       "      <td>...</td>\n",
       "    </tr>\n",
       "    <tr>\n",
       "      <th>51712</th>\n",
       "      <td>Best Brews - Four Points by Sheraton Bengaluru...</td>\n",
       "      <td>No</td>\n",
       "      <td>No</td>\n",
       "      <td>3.6 /5</td>\n",
       "      <td>27</td>\n",
       "      <td>Whitefield</td>\n",
       "      <td>Bar</td>\n",
       "      <td>Continental</td>\n",
       "      <td>1,500</td>\n",
       "      <td>Pubs and bars</td>\n",
       "      <td>Whitefield</td>\n",
       "    </tr>\n",
       "    <tr>\n",
       "      <th>51713</th>\n",
       "      <td>Vinod Bar And Restaurant</td>\n",
       "      <td>No</td>\n",
       "      <td>No</td>\n",
       "      <td>NaN</td>\n",
       "      <td>0</td>\n",
       "      <td>Whitefield</td>\n",
       "      <td>Bar</td>\n",
       "      <td>Finger Food</td>\n",
       "      <td>600</td>\n",
       "      <td>Pubs and bars</td>\n",
       "      <td>Whitefield</td>\n",
       "    </tr>\n",
       "    <tr>\n",
       "      <th>51714</th>\n",
       "      <td>Plunge - Sheraton Grand Bengaluru Whitefield H...</td>\n",
       "      <td>No</td>\n",
       "      <td>No</td>\n",
       "      <td>NaN</td>\n",
       "      <td>0</td>\n",
       "      <td>Whitefield</td>\n",
       "      <td>Bar</td>\n",
       "      <td>Finger Food</td>\n",
       "      <td>2,000</td>\n",
       "      <td>Pubs and bars</td>\n",
       "      <td>Whitefield</td>\n",
       "    </tr>\n",
       "    <tr>\n",
       "      <th>51715</th>\n",
       "      <td>Chime - Sheraton Grand Bengaluru Whitefield Ho...</td>\n",
       "      <td>No</td>\n",
       "      <td>Yes</td>\n",
       "      <td>4.3 /5</td>\n",
       "      <td>236</td>\n",
       "      <td>ITPL Main Road, Whitefield</td>\n",
       "      <td>Bar</td>\n",
       "      <td>Finger Food</td>\n",
       "      <td>2,500</td>\n",
       "      <td>Pubs and bars</td>\n",
       "      <td>Whitefield</td>\n",
       "    </tr>\n",
       "    <tr>\n",
       "      <th>51716</th>\n",
       "      <td>The Nest - The Den Bengaluru</td>\n",
       "      <td>No</td>\n",
       "      <td>No</td>\n",
       "      <td>3.4 /5</td>\n",
       "      <td>13</td>\n",
       "      <td>ITPL Main Road, Whitefield</td>\n",
       "      <td>Bar, Casual Dining</td>\n",
       "      <td>Finger Food, North Indian, Continental</td>\n",
       "      <td>1,500</td>\n",
       "      <td>Pubs and bars</td>\n",
       "      <td>Whitefield</td>\n",
       "    </tr>\n",
       "  </tbody>\n",
       "</table>\n",
       "<p>51717 rows × 11 columns</p>\n",
       "</div>"
      ],
      "text/plain": [
       "                                                    name online_order  \\\n",
       "0                                                  Jalsa          Yes   \n",
       "1                                         Spice Elephant          Yes   \n",
       "2                                        San Churro Cafe          Yes   \n",
       "3                                  Addhuri Udupi Bhojana           No   \n",
       "4                                          Grand Village           No   \n",
       "...                                                  ...          ...   \n",
       "51712  Best Brews - Four Points by Sheraton Bengaluru...           No   \n",
       "51713                           Vinod Bar And Restaurant           No   \n",
       "51714  Plunge - Sheraton Grand Bengaluru Whitefield H...           No   \n",
       "51715  Chime - Sheraton Grand Bengaluru Whitefield Ho...           No   \n",
       "51716                       The Nest - The Den Bengaluru           No   \n",
       "\n",
       "      book_table    rate  votes                    location  \\\n",
       "0            Yes   4.1/5    775                Banashankari   \n",
       "1             No   4.1/5    787                Banashankari   \n",
       "2             No   3.8/5    918                Banashankari   \n",
       "3             No   3.7/5     88                Banashankari   \n",
       "4             No   3.8/5    166                Basavanagudi   \n",
       "...          ...     ...    ...                         ...   \n",
       "51712         No  3.6 /5     27                  Whitefield   \n",
       "51713         No     NaN      0                  Whitefield   \n",
       "51714         No     NaN      0                  Whitefield   \n",
       "51715        Yes  4.3 /5    236  ITPL Main Road, Whitefield   \n",
       "51716         No  3.4 /5     13  ITPL Main Road, Whitefield   \n",
       "\n",
       "                 rest_type                                cuisines  \\\n",
       "0            Casual Dining          North Indian, Mughlai, Chinese   \n",
       "1            Casual Dining             Chinese, North Indian, Thai   \n",
       "2      Cafe, Casual Dining                  Cafe, Mexican, Italian   \n",
       "3              Quick Bites              South Indian, North Indian   \n",
       "4            Casual Dining                North Indian, Rajasthani   \n",
       "...                    ...                                     ...   \n",
       "51712                  Bar                             Continental   \n",
       "51713                  Bar                             Finger Food   \n",
       "51714                  Bar                             Finger Food   \n",
       "51715                  Bar                             Finger Food   \n",
       "51716   Bar, Casual Dining  Finger Food, North Indian, Continental   \n",
       "\n",
       "      approx_cost(for two people) listed_in(type) listed_in(city)  \n",
       "0                             800          Buffet    Banashankari  \n",
       "1                             800          Buffet    Banashankari  \n",
       "2                             800          Buffet    Banashankari  \n",
       "3                             300          Buffet    Banashankari  \n",
       "4                             600          Buffet    Banashankari  \n",
       "...                           ...             ...             ...  \n",
       "51712                       1,500   Pubs and bars      Whitefield  \n",
       "51713                         600   Pubs and bars      Whitefield  \n",
       "51714                       2,000   Pubs and bars      Whitefield  \n",
       "51715                       2,500   Pubs and bars      Whitefield  \n",
       "51716                       1,500   Pubs and bars      Whitefield  \n",
       "\n",
       "[51717 rows x 11 columns]"
      ]
     },
     "execution_count": 10,
     "metadata": {},
     "output_type": "execute_result"
    }
   ],
   "source": [
    "df"
   ]
  },
  {
   "cell_type": "code",
   "execution_count": 11,
   "id": "6c600985",
   "metadata": {},
   "outputs": [
    {
     "data": {
      "text/plain": [
       "(51717, 11)"
      ]
     },
     "execution_count": 11,
     "metadata": {},
     "output_type": "execute_result"
    }
   ],
   "source": [
    "df.shape"
   ]
  },
  {
   "cell_type": "code",
   "execution_count": 12,
   "id": "ff0ec86a",
   "metadata": {},
   "outputs": [
    {
     "name": "stdout",
     "output_type": "stream",
     "text": [
      "<class 'pandas.core.frame.DataFrame'>\n",
      "RangeIndex: 51717 entries, 0 to 51716\n",
      "Data columns (total 11 columns):\n",
      " #   Column                       Non-Null Count  Dtype \n",
      "---  ------                       --------------  ----- \n",
      " 0   name                         51717 non-null  object\n",
      " 1   online_order                 51717 non-null  object\n",
      " 2   book_table                   51717 non-null  object\n",
      " 3   rate                         43942 non-null  object\n",
      " 4   votes                        51717 non-null  int64 \n",
      " 5   location                     51696 non-null  object\n",
      " 6   rest_type                    51490 non-null  object\n",
      " 7   cuisines                     51672 non-null  object\n",
      " 8   approx_cost(for two people)  51371 non-null  object\n",
      " 9   listed_in(type)              51717 non-null  object\n",
      " 10  listed_in(city)              51717 non-null  object\n",
      "dtypes: int64(1), object(10)\n",
      "memory usage: 4.3+ MB\n"
     ]
    }
   ],
   "source": [
    "df.info()"
   ]
  },
  {
   "cell_type": "code",
   "execution_count": 13,
   "id": "d30b2038",
   "metadata": {},
   "outputs": [
    {
     "data": {
      "text/plain": [
       "Index(['name', 'online_order', 'book_table', 'rate', 'votes', 'location',\n",
       "       'rest_type', 'cuisines', 'approx_cost(for two people)',\n",
       "       'listed_in(type)', 'listed_in(city)'],\n",
       "      dtype='object')"
      ]
     },
     "execution_count": 13,
     "metadata": {},
     "output_type": "execute_result"
    }
   ],
   "source": [
    "# Checking for duplicated values\n",
    "df[df.duplicated()].columns"
   ]
  },
  {
   "cell_type": "markdown",
   "id": "89683d3f",
   "metadata": {},
   "source": [
    "as we see that in all columns there are duplicate values present.\n",
    "\n",
    "since these duplicate values in feature makes the analysis more biased so it is necessary to drop them to make better observation of data."
   ]
  },
  {
   "cell_type": "code",
   "execution_count": 14,
   "id": "10524b6c",
   "metadata": {},
   "outputs": [
    {
     "data": {
      "text/html": [
       "<div>\n",
       "<style scoped>\n",
       "    .dataframe tbody tr th:only-of-type {\n",
       "        vertical-align: middle;\n",
       "    }\n",
       "\n",
       "    .dataframe tbody tr th {\n",
       "        vertical-align: top;\n",
       "    }\n",
       "\n",
       "    .dataframe thead th {\n",
       "        text-align: right;\n",
       "    }\n",
       "</style>\n",
       "<table border=\"1\" class=\"dataframe\">\n",
       "  <thead>\n",
       "    <tr style=\"text-align: right;\">\n",
       "      <th></th>\n",
       "      <th>name</th>\n",
       "      <th>online_order</th>\n",
       "      <th>book_table</th>\n",
       "      <th>rate</th>\n",
       "      <th>votes</th>\n",
       "      <th>location</th>\n",
       "      <th>rest_type</th>\n",
       "      <th>cuisines</th>\n",
       "      <th>approx_cost(for two people)</th>\n",
       "      <th>listed_in(type)</th>\n",
       "      <th>listed_in(city)</th>\n",
       "    </tr>\n",
       "  </thead>\n",
       "  <tbody>\n",
       "    <tr>\n",
       "      <th>0</th>\n",
       "      <td>Jalsa</td>\n",
       "      <td>Yes</td>\n",
       "      <td>Yes</td>\n",
       "      <td>4.1/5</td>\n",
       "      <td>775</td>\n",
       "      <td>Banashankari</td>\n",
       "      <td>Casual Dining</td>\n",
       "      <td>North Indian, Mughlai, Chinese</td>\n",
       "      <td>800</td>\n",
       "      <td>Buffet</td>\n",
       "      <td>Banashankari</td>\n",
       "    </tr>\n",
       "    <tr>\n",
       "      <th>1</th>\n",
       "      <td>Spice Elephant</td>\n",
       "      <td>Yes</td>\n",
       "      <td>No</td>\n",
       "      <td>4.1/5</td>\n",
       "      <td>787</td>\n",
       "      <td>Banashankari</td>\n",
       "      <td>Casual Dining</td>\n",
       "      <td>Chinese, North Indian, Thai</td>\n",
       "      <td>800</td>\n",
       "      <td>Buffet</td>\n",
       "      <td>Banashankari</td>\n",
       "    </tr>\n",
       "    <tr>\n",
       "      <th>2</th>\n",
       "      <td>San Churro Cafe</td>\n",
       "      <td>Yes</td>\n",
       "      <td>No</td>\n",
       "      <td>3.8/5</td>\n",
       "      <td>918</td>\n",
       "      <td>Banashankari</td>\n",
       "      <td>Cafe, Casual Dining</td>\n",
       "      <td>Cafe, Mexican, Italian</td>\n",
       "      <td>800</td>\n",
       "      <td>Buffet</td>\n",
       "      <td>Banashankari</td>\n",
       "    </tr>\n",
       "    <tr>\n",
       "      <th>3</th>\n",
       "      <td>Addhuri Udupi Bhojana</td>\n",
       "      <td>No</td>\n",
       "      <td>No</td>\n",
       "      <td>3.7/5</td>\n",
       "      <td>88</td>\n",
       "      <td>Banashankari</td>\n",
       "      <td>Quick Bites</td>\n",
       "      <td>South Indian, North Indian</td>\n",
       "      <td>300</td>\n",
       "      <td>Buffet</td>\n",
       "      <td>Banashankari</td>\n",
       "    </tr>\n",
       "    <tr>\n",
       "      <th>4</th>\n",
       "      <td>Grand Village</td>\n",
       "      <td>No</td>\n",
       "      <td>No</td>\n",
       "      <td>3.8/5</td>\n",
       "      <td>166</td>\n",
       "      <td>Basavanagudi</td>\n",
       "      <td>Casual Dining</td>\n",
       "      <td>North Indian, Rajasthani</td>\n",
       "      <td>600</td>\n",
       "      <td>Buffet</td>\n",
       "      <td>Banashankari</td>\n",
       "    </tr>\n",
       "    <tr>\n",
       "      <th>...</th>\n",
       "      <td>...</td>\n",
       "      <td>...</td>\n",
       "      <td>...</td>\n",
       "      <td>...</td>\n",
       "      <td>...</td>\n",
       "      <td>...</td>\n",
       "      <td>...</td>\n",
       "      <td>...</td>\n",
       "      <td>...</td>\n",
       "      <td>...</td>\n",
       "      <td>...</td>\n",
       "    </tr>\n",
       "    <tr>\n",
       "      <th>51712</th>\n",
       "      <td>Best Brews - Four Points by Sheraton Bengaluru...</td>\n",
       "      <td>No</td>\n",
       "      <td>No</td>\n",
       "      <td>3.6 /5</td>\n",
       "      <td>27</td>\n",
       "      <td>Whitefield</td>\n",
       "      <td>Bar</td>\n",
       "      <td>Continental</td>\n",
       "      <td>1,500</td>\n",
       "      <td>Pubs and bars</td>\n",
       "      <td>Whitefield</td>\n",
       "    </tr>\n",
       "    <tr>\n",
       "      <th>51713</th>\n",
       "      <td>Vinod Bar And Restaurant</td>\n",
       "      <td>No</td>\n",
       "      <td>No</td>\n",
       "      <td>NaN</td>\n",
       "      <td>0</td>\n",
       "      <td>Whitefield</td>\n",
       "      <td>Bar</td>\n",
       "      <td>Finger Food</td>\n",
       "      <td>600</td>\n",
       "      <td>Pubs and bars</td>\n",
       "      <td>Whitefield</td>\n",
       "    </tr>\n",
       "    <tr>\n",
       "      <th>51714</th>\n",
       "      <td>Plunge - Sheraton Grand Bengaluru Whitefield H...</td>\n",
       "      <td>No</td>\n",
       "      <td>No</td>\n",
       "      <td>NaN</td>\n",
       "      <td>0</td>\n",
       "      <td>Whitefield</td>\n",
       "      <td>Bar</td>\n",
       "      <td>Finger Food</td>\n",
       "      <td>2,000</td>\n",
       "      <td>Pubs and bars</td>\n",
       "      <td>Whitefield</td>\n",
       "    </tr>\n",
       "    <tr>\n",
       "      <th>51715</th>\n",
       "      <td>Chime - Sheraton Grand Bengaluru Whitefield Ho...</td>\n",
       "      <td>No</td>\n",
       "      <td>Yes</td>\n",
       "      <td>4.3 /5</td>\n",
       "      <td>236</td>\n",
       "      <td>ITPL Main Road, Whitefield</td>\n",
       "      <td>Bar</td>\n",
       "      <td>Finger Food</td>\n",
       "      <td>2,500</td>\n",
       "      <td>Pubs and bars</td>\n",
       "      <td>Whitefield</td>\n",
       "    </tr>\n",
       "    <tr>\n",
       "      <th>51716</th>\n",
       "      <td>The Nest - The Den Bengaluru</td>\n",
       "      <td>No</td>\n",
       "      <td>No</td>\n",
       "      <td>3.4 /5</td>\n",
       "      <td>13</td>\n",
       "      <td>ITPL Main Road, Whitefield</td>\n",
       "      <td>Bar, Casual Dining</td>\n",
       "      <td>Finger Food, North Indian, Continental</td>\n",
       "      <td>1,500</td>\n",
       "      <td>Pubs and bars</td>\n",
       "      <td>Whitefield</td>\n",
       "    </tr>\n",
       "  </tbody>\n",
       "</table>\n",
       "<p>51609 rows × 11 columns</p>\n",
       "</div>"
      ],
      "text/plain": [
       "                                                    name online_order  \\\n",
       "0                                                  Jalsa          Yes   \n",
       "1                                         Spice Elephant          Yes   \n",
       "2                                        San Churro Cafe          Yes   \n",
       "3                                  Addhuri Udupi Bhojana           No   \n",
       "4                                          Grand Village           No   \n",
       "...                                                  ...          ...   \n",
       "51712  Best Brews - Four Points by Sheraton Bengaluru...           No   \n",
       "51713                           Vinod Bar And Restaurant           No   \n",
       "51714  Plunge - Sheraton Grand Bengaluru Whitefield H...           No   \n",
       "51715  Chime - Sheraton Grand Bengaluru Whitefield Ho...           No   \n",
       "51716                       The Nest - The Den Bengaluru           No   \n",
       "\n",
       "      book_table    rate  votes                    location  \\\n",
       "0            Yes   4.1/5    775                Banashankari   \n",
       "1             No   4.1/5    787                Banashankari   \n",
       "2             No   3.8/5    918                Banashankari   \n",
       "3             No   3.7/5     88                Banashankari   \n",
       "4             No   3.8/5    166                Basavanagudi   \n",
       "...          ...     ...    ...                         ...   \n",
       "51712         No  3.6 /5     27                  Whitefield   \n",
       "51713         No     NaN      0                  Whitefield   \n",
       "51714         No     NaN      0                  Whitefield   \n",
       "51715        Yes  4.3 /5    236  ITPL Main Road, Whitefield   \n",
       "51716         No  3.4 /5     13  ITPL Main Road, Whitefield   \n",
       "\n",
       "                 rest_type                                cuisines  \\\n",
       "0            Casual Dining          North Indian, Mughlai, Chinese   \n",
       "1            Casual Dining             Chinese, North Indian, Thai   \n",
       "2      Cafe, Casual Dining                  Cafe, Mexican, Italian   \n",
       "3              Quick Bites              South Indian, North Indian   \n",
       "4            Casual Dining                North Indian, Rajasthani   \n",
       "...                    ...                                     ...   \n",
       "51712                  Bar                             Continental   \n",
       "51713                  Bar                             Finger Food   \n",
       "51714                  Bar                             Finger Food   \n",
       "51715                  Bar                             Finger Food   \n",
       "51716   Bar, Casual Dining  Finger Food, North Indian, Continental   \n",
       "\n",
       "      approx_cost(for two people) listed_in(type) listed_in(city)  \n",
       "0                             800          Buffet    Banashankari  \n",
       "1                             800          Buffet    Banashankari  \n",
       "2                             800          Buffet    Banashankari  \n",
       "3                             300          Buffet    Banashankari  \n",
       "4                             600          Buffet    Banashankari  \n",
       "...                           ...             ...             ...  \n",
       "51712                       1,500   Pubs and bars      Whitefield  \n",
       "51713                         600   Pubs and bars      Whitefield  \n",
       "51714                       2,000   Pubs and bars      Whitefield  \n",
       "51715                       2,500   Pubs and bars      Whitefield  \n",
       "51716                       1,500   Pubs and bars      Whitefield  \n",
       "\n",
       "[51609 rows x 11 columns]"
      ]
     },
     "execution_count": 14,
     "metadata": {},
     "output_type": "execute_result"
    }
   ],
   "source": [
    "df=df.drop_duplicates()   #Return DataFrame with duplicate rows removed.\n",
    "df"
   ]
  },
  {
   "cell_type": "code",
   "execution_count": 15,
   "id": "d6daef8d",
   "metadata": {},
   "outputs": [
    {
     "data": {
      "text/plain": [
       "(51609, 11)"
      ]
     },
     "execution_count": 15,
     "metadata": {},
     "output_type": "execute_result"
    }
   ],
   "source": [
    "df.shape"
   ]
  },
  {
   "cell_type": "markdown",
   "id": "69b55219",
   "metadata": {},
   "source": [
    "So by above code we see that after droping duplicates values, number of rows or fields get reduced i.e. from 51717 to 51609."
   ]
  },
  {
   "cell_type": "markdown",
   "id": "e27d90cf",
   "metadata": {},
   "source": [
    "# Exploring Features\n",
    "\n",
    "1) Analysing \"rate\" columns since ther are lot of null values present"
   ]
  },
  {
   "cell_type": "code",
   "execution_count": 16,
   "id": "9fbbf8f0",
   "metadata": {},
   "outputs": [
    {
     "data": {
      "text/plain": [
       "array(['4.1/5', '3.8/5', '3.7/5', '3.6/5', '4.6/5', '4.0/5', '4.2/5',\n",
       "       '3.9/5', '3.1/5', '3.0/5', '3.2/5', '3.3/5', '2.8/5', '4.4/5',\n",
       "       '4.3/5', 'NEW', '2.9/5', '3.5/5', nan, '2.6/5', '3.8 /5', '3.4/5',\n",
       "       '4.5/5', '2.5/5', '2.7/5', '4.7/5', '2.4/5', '2.2/5', '2.3/5',\n",
       "       '3.4 /5', '-', '3.6 /5', '4.8/5', '3.9 /5', '4.2 /5', '4.0 /5',\n",
       "       '4.1 /5', '3.7 /5', '3.1 /5', '2.9 /5', '3.3 /5', '2.8 /5',\n",
       "       '3.5 /5', '2.7 /5', '2.5 /5', '3.2 /5', '2.6 /5', '4.5 /5',\n",
       "       '4.3 /5', '4.4 /5', '4.9/5', '2.1/5', '2.0/5', '1.8/5', '4.6 /5',\n",
       "       '4.9 /5', '3.0 /5', '4.8 /5', '2.3 /5', '4.7 /5', '2.4 /5',\n",
       "       '2.1 /5', '2.2 /5', '2.0 /5', '1.8 /5'], dtype=object)"
      ]
     },
     "execution_count": 16,
     "metadata": {},
     "output_type": "execute_result"
    }
   ],
   "source": [
    "df.rate.unique()"
   ]
  },
  {
   "cell_type": "markdown",
   "id": "90af76d3",
   "metadata": {},
   "source": [
    "As we see that there are some faulty values in rating column = \"NEW\", \"-\" and replace them with \"nan = i.e. by null values\"\n",
    "\n",
    "Since \"rate\" columns goves information about that persons views on that restaurants.\n",
    "\n",
    "But these values does not give, so we have to remove them."
   ]
  },
  {
   "cell_type": "code",
   "execution_count": 17,
   "id": "d9053250",
   "metadata": {},
   "outputs": [
    {
     "data": {
      "text/plain": [
       "0         4.1/5\n",
       "1         4.1/5\n",
       "2         3.8/5\n",
       "3         3.7/5\n",
       "4         3.8/5\n",
       "          ...  \n",
       "51712    3.6 /5\n",
       "51713       NaN\n",
       "51714       NaN\n",
       "51715    4.3 /5\n",
       "51716    3.4 /5\n",
       "Name: rate, Length: 51609, dtype: object"
      ]
     },
     "execution_count": 17,
     "metadata": {},
     "output_type": "execute_result"
    }
   ],
   "source": [
    "df.rate"
   ]
  },
  {
   "cell_type": "code",
   "execution_count": 18,
   "id": "0c66e278",
   "metadata": {},
   "outputs": [
    {
     "name": "stderr",
     "output_type": "stream",
     "text": [
      "C:\\Users\\Justin Thomas\\AppData\\Local\\Temp\\ipykernel_1172\\4146839669.py:19: SettingWithCopyWarning: \n",
      "A value is trying to be set on a copy of a slice from a DataFrame.\n",
      "Try using .loc[row_indexer,col_indexer] = value instead\n",
      "\n",
      "See the caveats in the documentation: https://pandas.pydata.org/pandas-docs/stable/user_guide/indexing.html#returning-a-view-versus-a-copy\n",
      "  df.rate=df.rate.apply(treat_rate)\n"
     ]
    }
   ],
   "source": [
    "# Defining a function to handel the rating column and also covert them from text to integer form\n",
    "\n",
    "\n",
    "def treat_rate(values):\n",
    "    if (values==\"NEW\" or values==\"-\"):\n",
    "        return np.nan\n",
    "    else:\n",
    "        values=str(values).split('/')   \n",
    "                                        # since split method splits string into list of int,\n",
    "                                        #i.e.\"4.1/5\" will split it into 4.1 and /5 ---> list is =   values=[4.1][/5] \n",
    "        values=values[0]\n",
    "                                        # But here we only need numerator of rating because all the rating are out of 5\n",
    "        return float(values) \n",
    "                                        # Since we want these values in floating form.\n",
    "                                 \n",
    "\n",
    "                    \n",
    "# Now applying the function on \"rate\" column  \n",
    "df.rate=df.rate.apply(treat_rate)\n",
    "                                 \n",
    "\n"
   ]
  },
  {
   "cell_type": "code",
   "execution_count": 19,
   "id": "36d3b48c",
   "metadata": {},
   "outputs": [
    {
     "data": {
      "text/plain": [
       "array([4.1, 3.8, 3.7, 3.6, 4.6, 4. , 4.2, 3.9, 3.1, 3. , 3.2, 3.3, 2.8,\n",
       "       4.4, 4.3, nan, 2.9, 3.5, 2.6, 3.4, 4.5, 2.5, 2.7, 4.7, 2.4, 2.2,\n",
       "       2.3, 4.8, 4.9, 2.1, 2. , 1.8])"
      ]
     },
     "execution_count": 19,
     "metadata": {},
     "output_type": "execute_result"
    }
   ],
   "source": [
    "df.rate.unique()"
   ]
  },
  {
   "cell_type": "code",
   "execution_count": 20,
   "id": "8e13e4e7",
   "metadata": {},
   "outputs": [
    {
     "name": "stdout",
     "output_type": "stream",
     "text": [
      "<class 'pandas.core.frame.DataFrame'>\n",
      "Int64Index: 51609 entries, 0 to 51716\n",
      "Data columns (total 11 columns):\n",
      " #   Column                       Non-Null Count  Dtype  \n",
      "---  ------                       --------------  -----  \n",
      " 0   name                         51609 non-null  object \n",
      " 1   online_order                 51609 non-null  object \n",
      " 2   book_table                   51609 non-null  object \n",
      " 3   rate                         41590 non-null  float64\n",
      " 4   votes                        51609 non-null  int64  \n",
      " 5   location                     51588 non-null  object \n",
      " 6   rest_type                    51382 non-null  object \n",
      " 7   cuisines                     51564 non-null  object \n",
      " 8   approx_cost(for two people)  51265 non-null  object \n",
      " 9   listed_in(type)              51609 non-null  object \n",
      " 10  listed_in(city)              51609 non-null  object \n",
      "dtypes: float64(1), int64(1), object(9)\n",
      "memory usage: 4.7+ MB\n"
     ]
    },
    {
     "data": {
      "text/plain": [
       "name                               0\n",
       "online_order                       0\n",
       "book_table                         0\n",
       "rate                           10019\n",
       "votes                              0\n",
       "location                          21\n",
       "rest_type                        227\n",
       "cuisines                          45\n",
       "approx_cost(for two people)      344\n",
       "listed_in(type)                    0\n",
       "listed_in(city)                    0\n",
       "dtype: int64"
      ]
     },
     "execution_count": 20,
     "metadata": {},
     "output_type": "execute_result"
    }
   ],
   "source": [
    "df.info()\n",
    "df.isnull().sum()"
   ]
  },
  {
   "cell_type": "code",
   "execution_count": 21,
   "id": "e8f05023",
   "metadata": {},
   "outputs": [
    {
     "name": "stderr",
     "output_type": "stream",
     "text": [
      "C:\\Users\\Justin Thomas\\AppData\\Local\\Temp\\ipykernel_1172\\333105584.py:3: SettingWithCopyWarning: \n",
      "A value is trying to be set on a copy of a slice from a DataFrame\n",
      "\n",
      "See the caveats in the documentation: https://pandas.pydata.org/pandas-docs/stable/user_guide/indexing.html#returning-a-view-versus-a-copy\n",
      "  df.rate.fillna(df.rate.mean(), inplace= True)   # don't put df.rate = df.rate.fillna(df.rate.mean()) will return nan values only\n"
     ]
    }
   ],
   "source": [
    "# Now we have to check for the missing values 'Nan', here as it is a numerical list so we can use the mean of the list in place of NaN values\n",
    "\n",
    "df.rate.fillna(df.rate.mean(), inplace= True)   # don't put df.rate = df.rate.fillna(df.rate.mean()) will return nan values only"
   ]
  },
  {
   "cell_type": "code",
   "execution_count": 22,
   "id": "699b2d26",
   "metadata": {},
   "outputs": [
    {
     "data": {
      "text/plain": [
       "name                             0\n",
       "online_order                     0\n",
       "book_table                       0\n",
       "rate                             0\n",
       "votes                            0\n",
       "location                        21\n",
       "rest_type                      227\n",
       "cuisines                        45\n",
       "approx_cost(for two people)    344\n",
       "listed_in(type)                  0\n",
       "listed_in(city)                  0\n",
       "dtype: int64"
      ]
     },
     "execution_count": 22,
     "metadata": {},
     "output_type": "execute_result"
    }
   ],
   "source": [
    "df.isnull().sum()"
   ]
  },
  {
   "cell_type": "markdown",
   "id": "5f9fc241",
   "metadata": {},
   "source": [
    "Rate column has now no null values.\n",
    "\n",
    "Now as compare to size of dataset in remaining features like [\"location\", \"rest_type\", \"cuisines\", \"approx_cost(for two people)\"] has very low null values present so if we drop them directly it wont affect our analysis much."
   ]
  },
  {
   "cell_type": "code",
   "execution_count": 23,
   "id": "fef95716",
   "metadata": {},
   "outputs": [
    {
     "name": "stderr",
     "output_type": "stream",
     "text": [
      "C:\\Users\\Justin Thomas\\AppData\\Local\\Temp\\ipykernel_1172\\1460711577.py:3: SettingWithCopyWarning: \n",
      "A value is trying to be set on a copy of a slice from a DataFrame\n",
      "\n",
      "See the caveats in the documentation: https://pandas.pydata.org/pandas-docs/stable/user_guide/indexing.html#returning-a-view-versus-a-copy\n",
      "  df.dropna(inplace = True)\n"
     ]
    }
   ],
   "source": [
    "## So droping other features null values\n",
    "\n",
    "df.dropna(inplace = True)"
   ]
  },
  {
   "cell_type": "code",
   "execution_count": 24,
   "id": "13a22c52",
   "metadata": {},
   "outputs": [
    {
     "data": {
      "text/plain": [
       "name                           0\n",
       "online_order                   0\n",
       "book_table                     0\n",
       "rate                           0\n",
       "votes                          0\n",
       "location                       0\n",
       "rest_type                      0\n",
       "cuisines                       0\n",
       "approx_cost(for two people)    0\n",
       "listed_in(type)                0\n",
       "listed_in(city)                0\n",
       "dtype: int64"
      ]
     },
     "execution_count": 24,
     "metadata": {},
     "output_type": "execute_result"
    }
   ],
   "source": [
    "df.isnull().sum()"
   ]
  },
  {
   "cell_type": "markdown",
   "id": "1698d7b3",
   "metadata": {},
   "source": [
    "Now in our dataset we dont have any null values present so we can move further do explore other analysis."
   ]
  },
  {
   "cell_type": "markdown",
   "id": "ec66057e",
   "metadata": {},
   "source": [
    "## 2) Now analysing Restaurant type feature"
   ]
  },
  {
   "cell_type": "code",
   "execution_count": 25,
   "id": "a8960c5f",
   "metadata": {},
   "outputs": [
    {
     "data": {
      "text/plain": [
       "Quick Bites                   19010\n",
       "Casual Dining                 10253\n",
       "Cafe                           3682\n",
       "Delivery                       2574\n",
       "Dessert Parlor                 2242\n",
       "                              ...  \n",
       "Dessert Parlor, Kiosk             2\n",
       "Food Court, Beverage Shop         2\n",
       "Dessert Parlor, Food Court        2\n",
       "Quick Bites, Kiosk                1\n",
       "Sweet Shop, Dessert Parlor        1\n",
       "Name: rest_type, Length: 93, dtype: int64"
      ]
     },
     "execution_count": 25,
     "metadata": {},
     "output_type": "execute_result"
    }
   ],
   "source": [
    "df['rest_type'].value_counts()"
   ]
  },
  {
   "cell_type": "markdown",
   "id": "dc658bfd",
   "metadata": {},
   "source": [
    "observations =\n",
    "\n",
    "1) most of the restaurants in dataset are \"Quick Bites\" types restaurent i.e. 19010 times ocurrences\n",
    "\n",
    "2) then followed by \"Casual Dining\" occures 10253 time in dataset\n",
    "\n",
    "since in restaurent type there are lot of types which have less number of occurence in dataset\n",
    "\n",
    "so for the better understanding of feature we will groups these rest_type which have less than 1000 counts"
   ]
  },
  {
   "cell_type": "code",
   "execution_count": 26,
   "id": "0e6a6daf",
   "metadata": {},
   "outputs": [
    {
     "data": {
      "text/plain": [
       "Quick Bites                   19010\n",
       "Casual Dining                 10253\n",
       "Cafe                           3682\n",
       "Delivery                       2574\n",
       "Dessert Parlor                 2242\n",
       "                              ...  \n",
       "Dessert Parlor, Kiosk             2\n",
       "Food Court, Beverage Shop         2\n",
       "Dessert Parlor, Food Court        2\n",
       "Quick Bites, Kiosk                1\n",
       "Sweet Shop, Dessert Parlor        1\n",
       "Name: rest_type, Length: 93, dtype: int64"
      ]
     },
     "execution_count": 26,
     "metadata": {},
     "output_type": "execute_result"
    }
   ],
   "source": [
    "rest_type = df['rest_type'].value_counts()\n",
    "rest_type"
   ]
  },
  {
   "cell_type": "code",
   "execution_count": 27,
   "id": "1891f940",
   "metadata": {},
   "outputs": [],
   "source": [
    "other_resto_types = rest_type[rest_type <1000]"
   ]
  },
  {
   "cell_type": "code",
   "execution_count": 28,
   "id": "6756898e",
   "metadata": {},
   "outputs": [
    {
     "data": {
      "text/plain": [
       "Beverage Shop                 863\n",
       "Bar                           686\n",
       "Food Court                    616\n",
       "Sweet Shop                    468\n",
       "Bar, Casual Dining            411\n",
       "                             ... \n",
       "Dessert Parlor, Kiosk           2\n",
       "Food Court, Beverage Shop       2\n",
       "Dessert Parlor, Food Court      2\n",
       "Quick Bites, Kiosk              1\n",
       "Sweet Shop, Dessert Parlor      1\n",
       "Name: rest_type, Length: 85, dtype: int64"
      ]
     },
     "execution_count": 28,
     "metadata": {},
     "output_type": "execute_result"
    }
   ],
   "source": [
    "other_resto_types\n"
   ]
  },
  {
   "cell_type": "code",
   "execution_count": 29,
   "id": "74f1f9a1",
   "metadata": {},
   "outputs": [
    {
     "data": {
      "text/plain": [
       "pandas.core.series.Series"
      ]
     },
     "execution_count": 29,
     "metadata": {},
     "output_type": "execute_result"
    }
   ],
   "source": [
    "type(other_resto_types)"
   ]
  },
  {
   "cell_type": "code",
   "execution_count": 30,
   "id": "37a0dfe5",
   "metadata": {},
   "outputs": [
    {
     "name": "stderr",
     "output_type": "stream",
     "text": [
      "C:\\Users\\Justin Thomas\\AppData\\Local\\Temp\\ipykernel_1172\\1579565604.py:8: SettingWithCopyWarning: \n",
      "A value is trying to be set on a copy of a slice from a DataFrame.\n",
      "Try using .loc[row_indexer,col_indexer] = value instead\n",
      "\n",
      "See the caveats in the documentation: https://pandas.pydata.org/pandas-docs/stable/user_guide/indexing.html#returning-a-view-versus-a-copy\n",
      "  df.rest_type=df.rest_type.apply(handel_rest_type)\n"
     ]
    }
   ],
   "source": [
    "def handel_rest_type(type):\n",
    "    if (type in other_resto_types):\n",
    "        return 'other_resto_type'\n",
    "    else:\n",
    "        return type\n",
    "\n",
    "\n",
    "df.rest_type=df.rest_type.apply(handel_rest_type)\n",
    "    \n",
    "        "
   ]
  },
  {
   "cell_type": "code",
   "execution_count": 31,
   "id": "be48329c",
   "metadata": {},
   "outputs": [
    {
     "data": {
      "text/plain": [
       "Quick Bites           19010\n",
       "Casual Dining         10253\n",
       "other_resto_type       9003\n",
       "Cafe                   3682\n",
       "Delivery               2574\n",
       "Dessert Parlor         2242\n",
       "Takeaway, Delivery     2008\n",
       "Bakery                 1140\n",
       "Casual Dining, Bar     1130\n",
       "Name: rest_type, dtype: int64"
      ]
     },
     "execution_count": 31,
     "metadata": {},
     "output_type": "execute_result"
    }
   ],
   "source": [
    "df.rest_type.value_counts()"
   ]
  },
  {
   "cell_type": "markdown",
   "id": "4805cb4e",
   "metadata": {},
   "source": [
    "## 3) Now Analysing where are these restaurants are located i.e. \"location\" column"
   ]
  },
  {
   "cell_type": "code",
   "execution_count": 32,
   "id": "9b454ff8",
   "metadata": {},
   "outputs": [
    {
     "data": {
      "text/plain": [
       "0                      Banashankari\n",
       "1                      Banashankari\n",
       "2                      Banashankari\n",
       "3                      Banashankari\n",
       "4                      Basavanagudi\n",
       "                    ...            \n",
       "51712                    Whitefield\n",
       "51713                    Whitefield\n",
       "51714                    Whitefield\n",
       "51715    ITPL Main Road, Whitefield\n",
       "51716    ITPL Main Road, Whitefield\n",
       "Name: location, Length: 51042, dtype: object"
      ]
     },
     "execution_count": 32,
     "metadata": {},
     "output_type": "execute_result"
    }
   ],
   "source": [
    "df['location']"
   ]
  },
  {
   "cell_type": "code",
   "execution_count": 33,
   "id": "2735ccb8",
   "metadata": {},
   "outputs": [
    {
     "data": {
      "text/plain": [
       "BTM                      5056\n",
       "HSR                      2494\n",
       "Koramangala 5th Block    2479\n",
       "JP Nagar                 2218\n",
       "Whitefield               2105\n",
       "                         ... \n",
       "West Bangalore              6\n",
       "Yelahanka                   5\n",
       "Jakkur                      3\n",
       "Rajarajeshwari Nagar        2\n",
       "Peenya                      1\n",
       "Name: location, Length: 93, dtype: int64"
      ]
     },
     "execution_count": 33,
     "metadata": {},
     "output_type": "execute_result"
    }
   ],
   "source": [
    "df['location'].value_counts()"
   ]
  },
  {
   "cell_type": "markdown",
   "id": "d548696f",
   "metadata": {},
   "source": [
    "observation =\n",
    "\n",
    "1) most of the restaurants are in BTM area i.e. 5056 number of restaurants, since we can infer that this area is highly populated and has good rich in culture.\n",
    "\n",
    "2) since there are also lot of such location are present in dataset which has less number of restaurants.\n",
    "\n",
    "3) so it is better for analysis and visualization purpose we can groups these location like we did for rest_type feature.\n",
    "\n",
    "4) grouping those locations which has less than 500 restaurant counts and storing them in \"other lcation\" variables."
   ]
  },
  {
   "cell_type": "code",
   "execution_count": 34,
   "id": "1049adcb",
   "metadata": {},
   "outputs": [],
   "source": [
    "locations = df['location'].value_counts() "
   ]
  },
  {
   "cell_type": "code",
   "execution_count": 35,
   "id": "33733eec",
   "metadata": {},
   "outputs": [],
   "source": [
    "other_locations=locations[locations<500]"
   ]
  },
  {
   "cell_type": "code",
   "execution_count": 36,
   "id": "2c4bf57a",
   "metadata": {},
   "outputs": [
    {
     "data": {
      "text/plain": [
       "Shivajinagar                     498\n",
       "Cunningham Road                  490\n",
       "Domlur                           482\n",
       "Old Airport Road                 437\n",
       "Ejipura                          433\n",
       "Commercial Street                370\n",
       "St. Marks Road                   343\n",
       "Koramangala 8th Block            294\n",
       "Vasanth Nagar                    293\n",
       "Jeevan Bhima Nagar               268\n",
       "Wilson Garden                    246\n",
       "Bommanahalli                     236\n",
       "Koramangala 3rd Block            215\n",
       "Thippasandra                     191\n",
       "Kumaraswamy Layout               191\n",
       "Nagawara                         187\n",
       "Basaveshwara Nagar               187\n",
       "Seshadripuram                    165\n",
       "Hennur                           159\n",
       "Majestic                         155\n",
       "HBR Layout                       153\n",
       "Infantry Road                    150\n",
       "Race Course Road                 139\n",
       "City Market                      122\n",
       "Yeshwantpur                      119\n",
       "ITPL Main Road, Whitefield       113\n",
       "Varthur Main Road, Whitefield    109\n",
       "South Bangalore                  107\n",
       "Koramangala 2nd Block            102\n",
       "Kaggadasapura                    101\n",
       "Hosur Road                        98\n",
       "CV Raman Nagar                    89\n",
       "Vijay Nagar                       78\n",
       "RT Nagar                          78\n",
       "Sanjay Nagar                      76\n",
       "Sadashiv Nagar                    63\n",
       "Sahakara Nagar                    53\n",
       "Koramangala                       48\n",
       "East Bangalore                    43\n",
       "Jalahalli                         38\n",
       "Magadi Road                       34\n",
       "Rammurthy Nagar                   32\n",
       "Langford Town                     27\n",
       "Sankey Road                       27\n",
       "Old Madras Road                   22\n",
       "Mysore Road                       22\n",
       "Kanakapura Road                   19\n",
       "KR Puram                          18\n",
       "Uttarahalli                       17\n",
       "Hebbal                            14\n",
       "North Bangalore                   14\n",
       "Nagarbhavi                         9\n",
       "Kengeri                            8\n",
       "Central Bangalore                  8\n",
       "West Bangalore                     6\n",
       "Yelahanka                          5\n",
       "Jakkur                             3\n",
       "Rajarajeshwari Nagar               2\n",
       "Peenya                             1\n",
       "Name: location, dtype: int64"
      ]
     },
     "execution_count": 36,
     "metadata": {},
     "output_type": "execute_result"
    }
   ],
   "source": [
    "other_locations"
   ]
  },
  {
   "cell_type": "code",
   "execution_count": 37,
   "id": "97e46fc6",
   "metadata": {},
   "outputs": [
    {
     "data": {
      "text/plain": [
       "59"
      ]
     },
     "execution_count": 37,
     "metadata": {},
     "output_type": "execute_result"
    }
   ],
   "source": [
    "other_locations.value_counts().sum()"
   ]
  },
  {
   "cell_type": "markdown",
   "id": "38c26edd",
   "metadata": {},
   "source": [
    "so ther are 59 columns which has less than 500 restaurants"
   ]
  },
  {
   "cell_type": "code",
   "execution_count": 38,
   "id": "3b1aae8a",
   "metadata": {},
   "outputs": [
    {
     "name": "stderr",
     "output_type": "stream",
     "text": [
      "C:\\Users\\Justin Thomas\\AppData\\Local\\Temp\\ipykernel_1172\\3109547047.py:10: SettingWithCopyWarning: \n",
      "A value is trying to be set on a copy of a slice from a DataFrame.\n",
      "Try using .loc[row_indexer,col_indexer] = value instead\n",
      "\n",
      "See the caveats in the documentation: https://pandas.pydata.org/pandas-docs/stable/user_guide/indexing.html#returning-a-view-versus-a-copy\n",
      "  df['location'] = df['location'].apply(handle_location)\n"
     ]
    }
   ],
   "source": [
    "# defining function \n",
    "\n",
    "def handle_location (location):\n",
    "    if location in other_locations :\n",
    "        return 'other locations'\n",
    "    else:\n",
    "        return location\n",
    "    \n",
    "# applying function\n",
    "df['location'] = df['location'].apply(handle_location)"
   ]
  },
  {
   "cell_type": "code",
   "execution_count": 39,
   "id": "a2a68966",
   "metadata": {},
   "outputs": [
    {
     "data": {
      "text/plain": [
       "other locations          8007\n",
       "BTM                      5056\n",
       "HSR                      2494\n",
       "Koramangala 5th Block    2479\n",
       "JP Nagar                 2218\n",
       "Whitefield               2105\n",
       "Indiranagar              2026\n",
       "Jayanagar                1916\n",
       "Marathahalli             1805\n",
       "Bannerghatta Road        1609\n",
       "Bellandur                1268\n",
       "Electronic City          1246\n",
       "Koramangala 1st Block    1236\n",
       "Brigade Road             1210\n",
       "Koramangala 7th Block    1174\n",
       "Koramangala 6th Block    1127\n",
       "Sarjapur Road            1047\n",
       "Koramangala 4th Block    1017\n",
       "Ulsoor                   1011\n",
       "Banashankari              902\n",
       "MG Road                   893\n",
       "Kalyan Nagar              841\n",
       "Richmond Road             803\n",
       "Malleshwaram              721\n",
       "Frazer Town               714\n",
       "Basavanagudi              684\n",
       "Residency Road            671\n",
       "Brookefield               656\n",
       "New BEL Road              644\n",
       "Banaswadi                 640\n",
       "Kammanahalli              639\n",
       "Rajajinagar               591\n",
       "Church Street             566\n",
       "Lavelle Road              518\n",
       "Shanti Nagar              508\n",
       "Name: location, dtype: int64"
      ]
     },
     "execution_count": 39,
     "metadata": {},
     "output_type": "execute_result"
    }
   ],
   "source": [
    "df['location'].value_counts()"
   ]
  },
  {
   "cell_type": "markdown",
   "id": "7102399d",
   "metadata": {},
   "source": [
    " so up till now we have treated very well \"rate\" column, \"rest_type\" column, \"location\" type column."
   ]
  },
  {
   "cell_type": "markdown",
   "id": "824bb64a",
   "metadata": {},
   "source": [
    "## 4) Now Analysing \"Cuisines\" feature i.e. Food styles"
   ]
  },
  {
   "cell_type": "code",
   "execution_count": 40,
   "id": "aeacd03d",
   "metadata": {},
   "outputs": [
    {
     "data": {
      "text/plain": [
       "North Indian                                2852\n",
       "North Indian, Chinese                       2351\n",
       "South Indian                                1820\n",
       "Biryani                                      903\n",
       "Bakery, Desserts                             898\n",
       "                                            ... \n",
       "North Indian, Chinese, Oriya, Mithai           1\n",
       "Beverages, Burger                              1\n",
       "North Indian, Mughlai, Lucknowi                1\n",
       "Continental, Thai, North Indian, Chinese       1\n",
       "North Indian, Chinese, Arabian, Momos          1\n",
       "Name: cuisines, Length: 2704, dtype: int64"
      ]
     },
     "execution_count": 40,
     "metadata": {},
     "output_type": "execute_result"
    }
   ],
   "source": [
    "df.cuisines.value_counts()"
   ]
  },
  {
   "cell_type": "code",
   "execution_count": 41,
   "id": "bd324012",
   "metadata": {},
   "outputs": [],
   "source": [
    "cuisines=df.cuisines.value_counts()"
   ]
  },
  {
   "cell_type": "code",
   "execution_count": 42,
   "id": "46545ae3",
   "metadata": {},
   "outputs": [
    {
     "data": {
      "text/plain": [
       "North Indian, Continental, Chinese          97\n",
       "Juices                                      94\n",
       "Fast Food, North Indian                     93\n",
       "Bengali, North Indian                       93\n",
       "Beverages, Juices                           90\n",
       "                                            ..\n",
       "North Indian, Chinese, Oriya, Mithai         1\n",
       "Beverages, Burger                            1\n",
       "North Indian, Mughlai, Lucknowi              1\n",
       "Continental, Thai, North Indian, Chinese     1\n",
       "North Indian, Chinese, Arabian, Momos        1\n",
       "Name: cuisines, Length: 2635, dtype: int64"
      ]
     },
     "execution_count": 42,
     "metadata": {},
     "output_type": "execute_result"
    }
   ],
   "source": [
    "less_num_cuisines=cuisines[cuisines<100]\n",
    "less_num_cuisines"
   ]
  },
  {
   "cell_type": "code",
   "execution_count": 43,
   "id": "3bd4ad0c",
   "metadata": {},
   "outputs": [
    {
     "name": "stderr",
     "output_type": "stream",
     "text": [
      "C:\\Users\\Justin Thomas\\AppData\\Local\\Temp\\ipykernel_1172\\486785323.py:7: SettingWithCopyWarning: \n",
      "A value is trying to be set on a copy of a slice from a DataFrame.\n",
      "Try using .loc[row_indexer,col_indexer] = value instead\n",
      "\n",
      "See the caveats in the documentation: https://pandas.pydata.org/pandas-docs/stable/user_guide/indexing.html#returning-a-view-versus-a-copy\n",
      "  df.cuisines=df.cuisines.apply(handling_cuisines)\n"
     ]
    }
   ],
   "source": [
    "def handling_cuisines(values):\n",
    "    if values in less_num_cuisines:\n",
    "        return 'less_num_cuisines'\n",
    "    else:\n",
    "        return values\n",
    "\n",
    "df.cuisines=df.cuisines.apply(handling_cuisines)"
   ]
  },
  {
   "cell_type": "code",
   "execution_count": 44,
   "id": "2f53192d",
   "metadata": {},
   "outputs": [
    {
     "data": {
      "text/plain": [
       "less_num_cuisines                      26159\n",
       "North Indian                            2852\n",
       "North Indian, Chinese                   2351\n",
       "South Indian                            1820\n",
       "Biryani                                  903\n",
       "                                       ...  \n",
       "South Indian, Chinese, North Indian      105\n",
       "North Indian, Mughlai, Chinese           104\n",
       "South Indian, Fast Food                  104\n",
       "Italian, Pizza                           102\n",
       "North Indian, Chinese, Seafood           102\n",
       "Name: cuisines, Length: 70, dtype: int64"
      ]
     },
     "execution_count": 44,
     "metadata": {},
     "output_type": "execute_result"
    }
   ],
   "source": [
    "df.cuisines.value_counts()"
   ]
  },
  {
   "cell_type": "markdown",
   "id": "39e7e3a5",
   "metadata": {},
   "source": [
    "So we observe that there are 26159 number of cuisines which have less than 100 styles of cooking in different restaurants which are present in our dataset"
   ]
  },
  {
   "cell_type": "markdown",
   "id": "dfe76f3f",
   "metadata": {},
   "source": [
    "## 5) Now analysing cost of plate per cuisines in restaurant i.e. \"approx_cost(for two people) feature"
   ]
  },
  {
   "cell_type": "code",
   "execution_count": 45,
   "id": "e9e39323",
   "metadata": {},
   "outputs": [
    {
     "data": {
      "text/plain": [
       "300      7531\n",
       "400      6503\n",
       "500      4929\n",
       "200      4829\n",
       "600      3687\n",
       "         ... \n",
       "60          1\n",
       "5,000       1\n",
       "3,700       1\n",
       "469         1\n",
       "160         1\n",
       "Name: approx_cost(for two people), Length: 70, dtype: int64"
      ]
     },
     "execution_count": 45,
     "metadata": {},
     "output_type": "execute_result"
    }
   ],
   "source": [
    "df['approx_cost(for two people)'].value_counts()"
   ]
  },
  {
   "cell_type": "code",
   "execution_count": 46,
   "id": "330124ac",
   "metadata": {},
   "outputs": [
    {
     "data": {
      "text/plain": [
       "array(['800', '300', '600', '700', '550', '500', '450', '650', '400',\n",
       "       '900', '200', '750', '150', '850', '100', '1,200', '350', '250',\n",
       "       '950', '1,000', '1,500', '1,300', '199', '80', '1,100', '160',\n",
       "       '1,600', '230', '130', '50', '190', '1,700', '1,400', '180',\n",
       "       '1,350', '2,200', '2,000', '1,800', '1,900', '330', '2,500',\n",
       "       '2,100', '3,000', '2,800', '3,400', '40', '1,250', '3,500',\n",
       "       '4,000', '2,400', '2,600', '120', '1,450', '469', '70', '3,200',\n",
       "       '60', '560', '240', '360', '6,000', '1,050', '2,300', '4,100',\n",
       "       '5,000', '3,700', '1,650', '2,700', '4,500', '140'], dtype=object)"
      ]
     },
     "execution_count": 46,
     "metadata": {},
     "output_type": "execute_result"
    }
   ],
   "source": [
    "df['approx_cost(for two people)'].unique()"
   ]
  },
  {
   "cell_type": "markdown",
   "id": "047deb88",
   "metadata": {},
   "source": [
    "Observation=\n",
    "\n",
    "1) as we see that data type of cost feature is object becoz of comas in between number when approx cost is above 999. i.e. 1,900 so on\n",
    "\n",
    "2) so we have to remove these comas i.e. \",\""
   ]
  },
  {
   "cell_type": "code",
   "execution_count": 47,
   "id": "4f6a2625",
   "metadata": {},
   "outputs": [
    {
     "name": "stderr",
     "output_type": "stream",
     "text": [
      "C:\\Users\\Justin Thomas\\AppData\\Local\\Temp\\ipykernel_1172\\549720447.py:12: SettingWithCopyWarning: \n",
      "A value is trying to be set on a copy of a slice from a DataFrame.\n",
      "Try using .loc[row_indexer,col_indexer] = value instead\n",
      "\n",
      "See the caveats in the documentation: https://pandas.pydata.org/pandas-docs/stable/user_guide/indexing.html#returning-a-view-versus-a-copy\n",
      "  df['approx_cost(for two people)'] = df['approx_cost(for two people)'].apply(handling_approx_cost)\n"
     ]
    }
   ],
   "source": [
    "# Writing functing to remove \",\" and convert this column into float\n",
    "\n",
    "def handling_approx_cost(cost):\n",
    "    cost = str(cost)\n",
    "    if \",\" in cost:\n",
    "        cost = cost.replace(\",\" , \"\")           # we simply replaced coma with empty value\n",
    "        return float(cost)                      # converting data type into float\n",
    "    else:\n",
    "        return float(cost)\n",
    "    \n",
    "# applying fun on feature\n",
    "df['approx_cost(for two people)'] = df['approx_cost(for two people)'].apply(handling_approx_cost)"
   ]
  },
  {
   "cell_type": "code",
   "execution_count": 48,
   "id": "64425119",
   "metadata": {},
   "outputs": [
    {
     "data": {
      "text/plain": [
       "array([ 800.,  300.,  600.,  700.,  550.,  500.,  450.,  650.,  400.,\n",
       "        900.,  200.,  750.,  150.,  850.,  100., 1200.,  350.,  250.,\n",
       "        950., 1000., 1500., 1300.,  199.,   80., 1100.,  160., 1600.,\n",
       "        230.,  130.,   50.,  190., 1700., 1400.,  180., 1350., 2200.,\n",
       "       2000., 1800., 1900.,  330., 2500., 2100., 3000., 2800., 3400.,\n",
       "         40., 1250., 3500., 4000., 2400., 2600.,  120., 1450.,  469.,\n",
       "         70., 3200.,   60.,  560.,  240.,  360., 6000., 1050., 2300.,\n",
       "       4100., 5000., 3700., 1650., 2700., 4500.,  140.])"
      ]
     },
     "execution_count": 48,
     "metadata": {},
     "output_type": "execute_result"
    }
   ],
   "source": [
    "df['approx_cost(for two people)'].unique()"
   ]
  },
  {
   "cell_type": "code",
   "execution_count": 49,
   "id": "228cd5bb",
   "metadata": {},
   "outputs": [
    {
     "data": {
      "text/plain": [
       "count    51042.000000\n",
       "mean       555.782983\n",
       "std        439.293333\n",
       "min         40.000000\n",
       "25%        300.000000\n",
       "50%        400.000000\n",
       "75%        700.000000\n",
       "max       6000.000000\n",
       "Name: approx_cost(for two people), dtype: float64"
      ]
     },
     "execution_count": 49,
     "metadata": {},
     "output_type": "execute_result"
    }
   ],
   "source": [
    "df['approx_cost(for two people)'].describe()"
   ]
  },
  {
   "cell_type": "markdown",
   "id": "2a911f06",
   "metadata": {},
   "source": [
    "Observation =\n",
    "\n",
    "1) Now we have successfully perform operation on approx_cost feature\n",
    "\n",
    "2) loweset cost per plate price is Rs. 40 in restaurant\n",
    "\n",
    "3) highest cost per plate price is 6000 in some restaurants"
   ]
  },
  {
   "cell_type": "markdown",
   "id": "52426e92",
   "metadata": {},
   "source": [
    "## 6) Now Analysing listed_in(type) i.e. types of meals."
   ]
  },
  {
   "cell_type": "code",
   "execution_count": 50,
   "id": "a10b1c30",
   "metadata": {},
   "outputs": [
    {
     "data": {
      "text/plain": [
       "0               Buffet\n",
       "1               Buffet\n",
       "2               Buffet\n",
       "3               Buffet\n",
       "4               Buffet\n",
       "             ...      \n",
       "51712    Pubs and bars\n",
       "51713    Pubs and bars\n",
       "51714    Pubs and bars\n",
       "51715    Pubs and bars\n",
       "51716    Pubs and bars\n",
       "Name: listed_in(type), Length: 51042, dtype: object"
      ]
     },
     "execution_count": 50,
     "metadata": {},
     "output_type": "execute_result"
    }
   ],
   "source": [
    "df['listed_in(type)']"
   ]
  },
  {
   "cell_type": "code",
   "execution_count": 51,
   "id": "ce0f45f4",
   "metadata": {},
   "outputs": [
    {
     "data": {
      "text/plain": [
       "Delivery              25579\n",
       "Dine-out              17562\n",
       "Desserts               3559\n",
       "Cafes                  1703\n",
       "Drinks & nightlife     1084\n",
       "Buffet                  869\n",
       "Pubs and bars           686\n",
       "Name: listed_in(type), dtype: int64"
      ]
     },
     "execution_count": 51,
     "metadata": {},
     "output_type": "execute_result"
    }
   ],
   "source": [
    "df['listed_in(type)'].value_counts()"
   ]
  },
  {
   "cell_type": "markdown",
   "id": "62961a99",
   "metadata": {},
   "source": [
    "Observations =\n",
    "\n",
    "1) In restaurants most of the types of meals are for delivery i.e. 25579 i.e most of people tries to order food from restaurants\n",
    "\n",
    "2) Then 17562 number of meal types are Dine-out i.e. means lot of peoples loves to eat outside from home i.e. in restaurants\n",
    "\n",
    "3) 3559 number of meals types are in Desserts or sweets\n",
    "\n",
    "4) 1703 number of types of meals are from cafes\n",
    "\n",
    "5) 1084 numbers are of Drinks & nightlife data\n",
    "\n",
    "6) 869 numbers are of buffet type of meals\n",
    "\n",
    "7) 689 numbers of pubs and bars present in datset of banglore"
   ]
  },
  {
   "cell_type": "markdown",
   "id": "0d6d2e76",
   "metadata": {},
   "source": [
    "## 7) Since \"location\" and \"listed_in(city)\" both gives same meaning. i.e. both columns shows area or location of restaurants in dataset"
   ]
  },
  {
   "cell_type": "markdown",
   "id": "bfd4b645",
   "metadata": {},
   "source": [
    "So for the better dataframe analysis we can drop one of them would not affect our analysis\n",
    "\n",
    "Droping listed_in(city) column becoz we have already analysed \"location\" column in above point number (3) so it is not good thing to drop this feature."
   ]
  },
  {
   "cell_type": "code",
   "execution_count": 52,
   "id": "b03d85a6",
   "metadata": {},
   "outputs": [],
   "source": [
    "df = df.drop(columns= 'listed_in(city)')"
   ]
  },
  {
   "cell_type": "code",
   "execution_count": 53,
   "id": "52066186",
   "metadata": {},
   "outputs": [
    {
     "data": {
      "text/plain": [
       "Index(['name', 'online_order', 'book_table', 'rate', 'votes', 'location',\n",
       "       'rest_type', 'cuisines', 'approx_cost(for two people)',\n",
       "       'listed_in(type)'],\n",
       "      dtype='object')"
      ]
     },
     "execution_count": 53,
     "metadata": {},
     "output_type": "execute_result"
    }
   ],
   "source": [
    "df.columns"
   ]
  },
  {
   "cell_type": "markdown",
   "id": "79164ac0",
   "metadata": {},
   "source": [
    "# Perfroming Data visualization"
   ]
  },
  {
   "cell_type": "markdown",
   "id": "7c77786a",
   "metadata": {},
   "source": [
    "## 8) Number of restaurant in different locations"
   ]
  },
  {
   "cell_type": "code",
   "execution_count": 54,
   "id": "6d730a91",
   "metadata": {},
   "outputs": [
    {
     "data": {
      "text/plain": [
       "other locations          8007\n",
       "BTM                      5056\n",
       "HSR                      2494\n",
       "Koramangala 5th Block    2479\n",
       "JP Nagar                 2218\n",
       "Whitefield               2105\n",
       "Indiranagar              2026\n",
       "Jayanagar                1916\n",
       "Marathahalli             1805\n",
       "Bannerghatta Road        1609\n",
       "Bellandur                1268\n",
       "Electronic City          1246\n",
       "Koramangala 1st Block    1236\n",
       "Brigade Road             1210\n",
       "Koramangala 7th Block    1174\n",
       "Koramangala 6th Block    1127\n",
       "Sarjapur Road            1047\n",
       "Koramangala 4th Block    1017\n",
       "Ulsoor                   1011\n",
       "Banashankari              902\n",
       "MG Road                   893\n",
       "Kalyan Nagar              841\n",
       "Richmond Road             803\n",
       "Malleshwaram              721\n",
       "Frazer Town               714\n",
       "Basavanagudi              684\n",
       "Residency Road            671\n",
       "Brookefield               656\n",
       "New BEL Road              644\n",
       "Banaswadi                 640\n",
       "Kammanahalli              639\n",
       "Rajajinagar               591\n",
       "Church Street             566\n",
       "Lavelle Road              518\n",
       "Shanti Nagar              508\n",
       "Name: location, dtype: int64"
      ]
     },
     "execution_count": 54,
     "metadata": {},
     "output_type": "execute_result"
    }
   ],
   "source": [
    "df['location'].value_counts()"
   ]
  },
  {
   "cell_type": "code",
   "execution_count": 62,
   "id": "f0ffbba3",
   "metadata": {},
   "outputs": [
    {
     "data": {
      "image/png": "[encoded data removed]",
      "text/plain": [
       "<Figure size 2000x700 with 1 Axes>"
      ]
     },
     "metadata": {},
     "output_type": "display_data"
    }
   ],
   "source": [
    "counts=df['location'].value_counts()\n",
    "fig=plt.figure(figsize=(20,7))\n",
    "ax=fig.gca()\n",
    "\n",
    "counts.plot.bar(ax = ax, color='cyan', edgecolor= 'red' )\n",
    "ax.set_title( 'Location wise Restaurants')\n",
    "ax.set_xlabel('Location') \n",
    "ax.set_ylabel(\"Lounts\")\n",
    "plt.show()"
   ]
  },
  {
   "cell_type": "markdown",
   "id": "bee4c216",
   "metadata": {},
   "source": [
    "Observation =\n",
    "\n",
    "1) As BTM place has above 5000 plus number of restaurants\n",
    "\n",
    "2) That means BTM is place where most of the people tries to go there or order some cuisines.\n",
    "\n",
    "3) And Other location means lovcation which have less than 500 restaurents in dataset are quite high counts i.e. almost 8000 number of places are there which having <500 restaurants."
   ]
  },
  {
   "cell_type": "markdown",
   "id": "96bbf18b",
   "metadata": {},
   "source": [
    "## 9) Checking Restaurants way of delivery for cuisines.\n",
    "\n",
    "Looking whether restaurants have online delivery option or not"
   ]
  },
  {
   "cell_type": "code",
   "execution_count": 63,
   "id": "4b27032b",
   "metadata": {},
   "outputs": [
    {
     "data": {
      "text/plain": [
       "Yes    30228\n",
       "No     20814\n",
       "Name: online_order, dtype: int64"
      ]
     },
     "execution_count": 63,
     "metadata": {},
     "output_type": "execute_result"
    }
   ],
   "source": [
    "df['online_order'].value_counts()"
   ]
  },
  {
   "cell_type": "code",
   "execution_count": 65,
   "id": "18d12ceb",
   "metadata": {},
   "outputs": [
    {
     "data": {
      "image/png": "[encoded data removed]",
      "text/plain": [
       "<Figure size 500x600 with 1 Axes>"
      ]
     },
     "metadata": {},
     "output_type": "display_data"
    }
   ],
   "source": [
    "counts = df['online_order'].value_counts().sort_index()\n",
    "fig = plt.figure(figsize=(5,6))\n",
    "ax = fig.gca()\n",
    " \n",
    "counts.plot.bar(ax = ax, color='cyan')\n",
    "ax.set_title( 'online_order'+' counts')\n",
    "ax.set_xlabel('online orders') \n",
    "ax.set_ylabel(\"counts\")\n",
    "plt.show()"
   ]
  },
  {
   "cell_type": "markdown",
   "id": "4c501b82",
   "metadata": {},
   "source": [
    "Observations =\n",
    "\n",
    "1) In Dataset 30228 restaurents have online delivery facility\n",
    "\n",
    "2) 20814 restaurants are not having online delivery service."
   ]
  },
  {
   "cell_type": "markdown",
   "id": "9ba41263",
   "metadata": {},
   "source": [
    "## 10) Checking wheter restaurants have Booking Table facility or not\n"
   ]
  },
  {
   "cell_type": "code",
   "execution_count": 66,
   "id": "ba737355",
   "metadata": {},
   "outputs": [
    {
     "data": {
      "text/plain": [
       "No     44626\n",
       "Yes     6416\n",
       "Name: book_table, dtype: int64"
      ]
     },
     "execution_count": 66,
     "metadata": {},
     "output_type": "execute_result"
    }
   ],
   "source": [
    "df['book_table'].value_counts()"
   ]
  },
  {
   "cell_type": "code",
   "execution_count": 67,
   "id": "950ad0c0",
   "metadata": {},
   "outputs": [
    {
     "data": {
      "image/png": "[encoded data removed]",
      "text/plain": [
       "<Figure size 500x600 with 1 Axes>"
      ]
     },
     "metadata": {},
     "output_type": "display_data"
    }
   ],
   "source": [
    "fig = plt.figure(figsize= (5,6))\n",
    "counts = df['book_table'].value_counts()\n",
    "ax= fig.gca()\n",
    "counts.plot.bar(ax=ax, color='cyan')\n",
    "plt.title('Book_table'+ ' count distribution')\n",
    "plt.xlabel('book table')\n",
    "plt.ylabel('counts')\n",
    "plt.show()\n",
    "             "
   ]
  },
  {
   "cell_type": "markdown",
   "id": "87e59e40",
   "metadata": {},
   "source": [
    "Observation=\n",
    "\n",
    "1) As we can see that Most of the restaurants (i.e. 44626 ) has no facility like booking table.\n",
    "\n",
    "2) and in 6416 restaurants has book table facility."
   ]
  },
  {
   "cell_type": "markdown",
   "id": "74b5ba46",
   "metadata": {},
   "source": [
    "## 11) Checking how much Ratings are given by peoples to restaurants online delivery\n",
    "\n",
    "Using box plot to compare to features but Box plot gives some bad observation as feature have outliers"
   ]
  },
  {
   "cell_type": "code",
   "execution_count": 69,
   "id": "55565e04",
   "metadata": {},
   "outputs": [
    {
     "data": {
      "image/png": "[encoded data removed]",
      "text/plain": [
       "<Figure size 700x600 with 1 Axes>"
      ]
     },
     "metadata": {},
     "output_type": "display_data"
    }
   ],
   "source": [
    "fig = plt.figure(figsize=(7,6))\n",
    "ax= fig.gca()\n",
    "\n",
    "sns.boxplot(x= df['online_order'], y= df['rate'])\n",
    "plt.show()"
   ]
  },
  {
   "cell_type": "markdown",
   "id": "2e460ec7",
   "metadata": {},
   "source": [
    "Observations = These observation are due to Outliers present in features\n",
    "\n",
    "1) whether restaurants having online or not the average rating to restaurants given by the customers is 3.70142\n",
    "\n",
    "2) maximum rating for online delivery of restaurants by people is around 4.7\n",
    "\n",
    "3) minimum rating for online delivery given by customer is around 2.7\n",
    "\n",
    "4) And when people go directly to restaurants they give maximum of ratings around 4.4\n",
    "\n",
    "5) And when people go directly to restaurants they give manimum of ratings around 3.3"
   ]
  },
  {
   "cell_type": "code",
   "execution_count": 72,
   "id": "ad6ff1a0",
   "metadata": {},
   "outputs": [
    {
     "data": {
      "image/png": "[encoded data removed]",
      "text/plain": [
       "<Figure size 640x480 with 1 Axes>"
      ]
     },
     "metadata": {},
     "output_type": "display_data"
    }
   ],
   "source": [
    "# Ploting Violin plot to overcome from outliers\n",
    "\n",
    "sns.violinplot(x= df['online_order'], y= df['rate'])\n",
    "plt.show()"
   ]
  },
  {
   "cell_type": "markdown",
   "id": "aab0d69e",
   "metadata": {},
   "source": [
    "Actual Observations from rating for restaurants online delivery =\n",
    "1) whether restaurants having online or not the average rating to restaurants given by the customers is 3.70142\n",
    "\n",
    "2) maximum rating for online delivery of restaurants by people is around 4.9\n",
    "\n",
    "3) minimum rating for online delivery given by customer is around 2.1\n",
    "\n",
    "4) And when people go directly to restaurants they give maximum of ratings around 4.9\n",
    "\n",
    "5) And when people go directly to restaurants they give minimum of ratings around 1.8"
   ]
  },
  {
   "cell_type": "markdown",
   "id": "fadd6192",
   "metadata": {},
   "source": [
    "## 12) Checking From which Location of restaurants recieving most online orders\n",
    "\n",
    "Grouping locations of restaurants and there online orders"
   ]
  },
  {
   "cell_type": "code",
   "execution_count": 78,
   "id": "84d46880",
   "metadata": {},
   "outputs": [],
   "source": [
    "locationwise_online_order= df.groupby(['location','online_order'])['name'].count()"
   ]
  },
  {
   "cell_type": "code",
   "execution_count": 79,
   "id": "0581c007",
   "metadata": {},
   "outputs": [
    {
     "data": {
      "text/plain": [
       "location         online_order\n",
       "BTM              No              1763\n",
       "                 Yes             3293\n",
       "Banashankari     No               397\n",
       "                 Yes              505\n",
       "Banaswadi        No               302\n",
       "                                 ... \n",
       "Ulsoor           Yes              622\n",
       "Whitefield       No               986\n",
       "                 Yes             1119\n",
       "other locations  No              3672\n",
       "                 Yes             4335\n",
       "Name: name, Length: 70, dtype: int64"
      ]
     },
     "execution_count": 79,
     "metadata": {},
     "output_type": "execute_result"
    }
   ],
   "source": [
    "locationwise_online_order"
   ]
  },
  {
   "cell_type": "code",
   "execution_count": 80,
   "id": "8ac77392",
   "metadata": {},
   "outputs": [
    {
     "data": {
      "text/plain": [
       "<Axes: xlabel='location,online_order'>"
      ]
     },
     "execution_count": 80,
     "metadata": {},
     "output_type": "execute_result"
    },
    {
     "data": {
      "image/png": "[encoded data removed]",
      "text/plain": [
       "<Figure size 1500x700 with 1 Axes>"
      ]
     },
     "metadata": {},
     "output_type": "display_data"
    }
   ],
   "source": [
    "locationwise_online_order.plot.bar(figsize= (15,7))"
   ]
  },
  {
   "cell_type": "markdown",
   "id": "fba70977",
   "metadata": {},
   "source": [
    "observations=\n",
    "\n",
    "1) As we have allready seen that most of the restaurant are present in BTM area and it is obvious things that most of there restaurant will have online delivery facility.\n",
    "\n",
    "2) In HSR location around 2000 restaurants have online delivery facility."
   ]
  },
  {
   "cell_type": "markdown",
   "id": "d1ccbf1b",
   "metadata": {},
   "source": [
    "## 13) Visualizing restaurants types and there ratings\n",
    "\n",
    "ploting box plot\n"
   ]
  },
  {
   "cell_type": "code",
   "execution_count": 81,
   "id": "c390117b",
   "metadata": {},
   "outputs": [
    {
     "data": {
      "image/png": "[encoded data removed]",
      "text/plain": [
       "<Figure size 1500x700 with 1 Axes>"
      ]
     },
     "metadata": {},
     "output_type": "display_data"
    }
   ],
   "source": [
    "plt.figure(figsize=(15,7))\n",
    "sns.boxplot(x= df['listed_in(type)'], y= df['rate'])\n",
    "plt.show()"
   ]
  },
  {
   "cell_type": "markdown",
   "id": "ed556688",
   "metadata": {},
   "source": [
    "Observations =\n",
    "\n",
    "1) So Drinks and nightlife Restaurants types has maximum avg rating around 4.2 among other 6 types of restaurants\n",
    "\n",
    "2) Then Buffet restaurants have avg rating around 4.0\n",
    "\n",
    "3) worst Rating for restaurants types are Delivery, Desserts, and Dine-out."
   ]
  },
  {
   "cell_type": "markdown",
   "id": "21ee65e7",
   "metadata": {},
   "source": [
    "## 14) visualizing location wise Restaurant types\n",
    "Grouping all given restaurants \"types\" and there respective \"locations\" by restaurants \"names\""
   ]
  },
  {
   "cell_type": "code",
   "execution_count": 84,
   "id": "2438c8ff",
   "metadata": {},
   "outputs": [],
   "source": [
    "#creating a separate Dataframe of \"location\" as Row index, and Types of restaurants as (listed _in(type)) with there names as columns\n",
    "\n",
    "loc_type_df = df.groupby(['listed_in(type)','location'])['name'].count()"
   ]
  },
  {
   "cell_type": "code",
   "execution_count": 85,
   "id": "31f191c2",
   "metadata": {},
   "outputs": [],
   "source": [
    "loc_type_df.to_csv('loc_type.csv')\n",
    "loc_type_df = pd.read_csv('loc_type.csv')\n",
    "loc_type_df= pd.pivot_table(loc_type_df, values=None, index='location', columns='listed_in(type)',fill_value=0, aggfunc= np.sum)"
   ]
  },
  {
   "cell_type": "code",
   "execution_count": 86,
   "id": "eaf22eae",
   "metadata": {},
   "outputs": [
    {
     "data": {
      "text/html": [
       "<div>\n",
       "<style scoped>\n",
       "    .dataframe tbody tr th:only-of-type {\n",
       "        vertical-align: middle;\n",
       "    }\n",
       "\n",
       "    .dataframe tbody tr th {\n",
       "        vertical-align: top;\n",
       "    }\n",
       "\n",
       "    .dataframe thead tr th {\n",
       "        text-align: left;\n",
       "    }\n",
       "\n",
       "    .dataframe thead tr:last-of-type th {\n",
       "        text-align: right;\n",
       "    }\n",
       "</style>\n",
       "<table border=\"1\" class=\"dataframe\">\n",
       "  <thead>\n",
       "    <tr>\n",
       "      <th></th>\n",
       "      <th colspan=\"7\" halign=\"left\">name</th>\n",
       "    </tr>\n",
       "    <tr>\n",
       "      <th>listed_in(type)</th>\n",
       "      <th>Buffet</th>\n",
       "      <th>Cafes</th>\n",
       "      <th>Delivery</th>\n",
       "      <th>Desserts</th>\n",
       "      <th>Dine-out</th>\n",
       "      <th>Drinks &amp; nightlife</th>\n",
       "      <th>Pubs and bars</th>\n",
       "    </tr>\n",
       "    <tr>\n",
       "      <th>location</th>\n",
       "      <th></th>\n",
       "      <th></th>\n",
       "      <th></th>\n",
       "      <th></th>\n",
       "      <th></th>\n",
       "      <th></th>\n",
       "      <th></th>\n",
       "    </tr>\n",
       "  </thead>\n",
       "  <tbody>\n",
       "    <tr>\n",
       "      <th>BTM</th>\n",
       "      <td>21</td>\n",
       "      <td>83</td>\n",
       "      <td>3053</td>\n",
       "      <td>198</td>\n",
       "      <td>1660</td>\n",
       "      <td>22</td>\n",
       "      <td>19</td>\n",
       "    </tr>\n",
       "    <tr>\n",
       "      <th>Banashankari</th>\n",
       "      <td>7</td>\n",
       "      <td>36</td>\n",
       "      <td>418</td>\n",
       "      <td>71</td>\n",
       "      <td>356</td>\n",
       "      <td>14</td>\n",
       "      <td>0</td>\n",
       "    </tr>\n",
       "    <tr>\n",
       "      <th>Banaswadi</th>\n",
       "      <td>0</td>\n",
       "      <td>24</td>\n",
       "      <td>310</td>\n",
       "      <td>37</td>\n",
       "      <td>262</td>\n",
       "      <td>6</td>\n",
       "      <td>1</td>\n",
       "    </tr>\n",
       "    <tr>\n",
       "      <th>Bannerghatta Road</th>\n",
       "      <td>9</td>\n",
       "      <td>46</td>\n",
       "      <td>828</td>\n",
       "      <td>137</td>\n",
       "      <td>578</td>\n",
       "      <td>9</td>\n",
       "      <td>2</td>\n",
       "    </tr>\n",
       "    <tr>\n",
       "      <th>Basavanagudi</th>\n",
       "      <td>7</td>\n",
       "      <td>11</td>\n",
       "      <td>344</td>\n",
       "      <td>66</td>\n",
       "      <td>251</td>\n",
       "      <td>5</td>\n",
       "      <td>0</td>\n",
       "    </tr>\n",
       "    <tr>\n",
       "      <th>Bellandur</th>\n",
       "      <td>28</td>\n",
       "      <td>36</td>\n",
       "      <td>617</td>\n",
       "      <td>75</td>\n",
       "      <td>479</td>\n",
       "      <td>17</td>\n",
       "      <td>16</td>\n",
       "    </tr>\n",
       "    <tr>\n",
       "      <th>Brigade Road</th>\n",
       "      <td>25</td>\n",
       "      <td>46</td>\n",
       "      <td>497</td>\n",
       "      <td>108</td>\n",
       "      <td>455</td>\n",
       "      <td>57</td>\n",
       "      <td>22</td>\n",
       "    </tr>\n",
       "    <tr>\n",
       "      <th>Brookefield</th>\n",
       "      <td>6</td>\n",
       "      <td>17</td>\n",
       "      <td>339</td>\n",
       "      <td>45</td>\n",
       "      <td>245</td>\n",
       "      <td>4</td>\n",
       "      <td>0</td>\n",
       "    </tr>\n",
       "    <tr>\n",
       "      <th>Church Street</th>\n",
       "      <td>19</td>\n",
       "      <td>51</td>\n",
       "      <td>193</td>\n",
       "      <td>29</td>\n",
       "      <td>215</td>\n",
       "      <td>36</td>\n",
       "      <td>23</td>\n",
       "    </tr>\n",
       "    <tr>\n",
       "      <th>Electronic City</th>\n",
       "      <td>23</td>\n",
       "      <td>24</td>\n",
       "      <td>570</td>\n",
       "      <td>71</td>\n",
       "      <td>516</td>\n",
       "      <td>21</td>\n",
       "      <td>21</td>\n",
       "    </tr>\n",
       "    <tr>\n",
       "      <th>Frazer Town</th>\n",
       "      <td>1</td>\n",
       "      <td>11</td>\n",
       "      <td>470</td>\n",
       "      <td>56</td>\n",
       "      <td>172</td>\n",
       "      <td>2</td>\n",
       "      <td>2</td>\n",
       "    </tr>\n",
       "    <tr>\n",
       "      <th>HSR</th>\n",
       "      <td>19</td>\n",
       "      <td>49</td>\n",
       "      <td>1694</td>\n",
       "      <td>120</td>\n",
       "      <td>580</td>\n",
       "      <td>14</td>\n",
       "      <td>18</td>\n",
       "    </tr>\n",
       "    <tr>\n",
       "      <th>Indiranagar</th>\n",
       "      <td>38</td>\n",
       "      <td>97</td>\n",
       "      <td>1091</td>\n",
       "      <td>140</td>\n",
       "      <td>529</td>\n",
       "      <td>65</td>\n",
       "      <td>66</td>\n",
       "    </tr>\n",
       "    <tr>\n",
       "      <th>JP Nagar</th>\n",
       "      <td>45</td>\n",
       "      <td>76</td>\n",
       "      <td>1151</td>\n",
       "      <td>166</td>\n",
       "      <td>722</td>\n",
       "      <td>51</td>\n",
       "      <td>7</td>\n",
       "    </tr>\n",
       "    <tr>\n",
       "      <th>Jayanagar</th>\n",
       "      <td>27</td>\n",
       "      <td>77</td>\n",
       "      <td>1043</td>\n",
       "      <td>182</td>\n",
       "      <td>575</td>\n",
       "      <td>12</td>\n",
       "      <td>0</td>\n",
       "    </tr>\n",
       "    <tr>\n",
       "      <th>Kalyan Nagar</th>\n",
       "      <td>9</td>\n",
       "      <td>45</td>\n",
       "      <td>366</td>\n",
       "      <td>88</td>\n",
       "      <td>315</td>\n",
       "      <td>18</td>\n",
       "      <td>0</td>\n",
       "    </tr>\n",
       "    <tr>\n",
       "      <th>Kammanahalli</th>\n",
       "      <td>2</td>\n",
       "      <td>27</td>\n",
       "      <td>329</td>\n",
       "      <td>35</td>\n",
       "      <td>240</td>\n",
       "      <td>6</td>\n",
       "      <td>0</td>\n",
       "    </tr>\n",
       "    <tr>\n",
       "      <th>Koramangala 1st Block</th>\n",
       "      <td>3</td>\n",
       "      <td>26</td>\n",
       "      <td>716</td>\n",
       "      <td>70</td>\n",
       "      <td>398</td>\n",
       "      <td>7</td>\n",
       "      <td>16</td>\n",
       "    </tr>\n",
       "    <tr>\n",
       "      <th>Koramangala 4th Block</th>\n",
       "      <td>21</td>\n",
       "      <td>53</td>\n",
       "      <td>464</td>\n",
       "      <td>81</td>\n",
       "      <td>302</td>\n",
       "      <td>62</td>\n",
       "      <td>34</td>\n",
       "    </tr>\n",
       "    <tr>\n",
       "      <th>Koramangala 5th Block</th>\n",
       "      <td>65</td>\n",
       "      <td>146</td>\n",
       "      <td>1075</td>\n",
       "      <td>209</td>\n",
       "      <td>842</td>\n",
       "      <td>84</td>\n",
       "      <td>58</td>\n",
       "    </tr>\n",
       "    <tr>\n",
       "      <th>Koramangala 6th Block</th>\n",
       "      <td>18</td>\n",
       "      <td>43</td>\n",
       "      <td>511</td>\n",
       "      <td>70</td>\n",
       "      <td>411</td>\n",
       "      <td>51</td>\n",
       "      <td>23</td>\n",
       "    </tr>\n",
       "    <tr>\n",
       "      <th>Koramangala 7th Block</th>\n",
       "      <td>25</td>\n",
       "      <td>52</td>\n",
       "      <td>503</td>\n",
       "      <td>127</td>\n",
       "      <td>417</td>\n",
       "      <td>25</td>\n",
       "      <td>25</td>\n",
       "    </tr>\n",
       "    <tr>\n",
       "      <th>Lavelle Road</th>\n",
       "      <td>30</td>\n",
       "      <td>27</td>\n",
       "      <td>127</td>\n",
       "      <td>50</td>\n",
       "      <td>191</td>\n",
       "      <td>59</td>\n",
       "      <td>34</td>\n",
       "    </tr>\n",
       "    <tr>\n",
       "      <th>MG Road</th>\n",
       "      <td>51</td>\n",
       "      <td>76</td>\n",
       "      <td>266</td>\n",
       "      <td>68</td>\n",
       "      <td>343</td>\n",
       "      <td>53</td>\n",
       "      <td>36</td>\n",
       "    </tr>\n",
       "    <tr>\n",
       "      <th>Malleshwaram</th>\n",
       "      <td>11</td>\n",
       "      <td>31</td>\n",
       "      <td>269</td>\n",
       "      <td>85</td>\n",
       "      <td>291</td>\n",
       "      <td>20</td>\n",
       "      <td>14</td>\n",
       "    </tr>\n",
       "    <tr>\n",
       "      <th>Marathahalli</th>\n",
       "      <td>34</td>\n",
       "      <td>32</td>\n",
       "      <td>980</td>\n",
       "      <td>105</td>\n",
       "      <td>630</td>\n",
       "      <td>22</td>\n",
       "      <td>2</td>\n",
       "    </tr>\n",
       "    <tr>\n",
       "      <th>New BEL Road</th>\n",
       "      <td>4</td>\n",
       "      <td>29</td>\n",
       "      <td>338</td>\n",
       "      <td>33</td>\n",
       "      <td>224</td>\n",
       "      <td>8</td>\n",
       "      <td>8</td>\n",
       "    </tr>\n",
       "    <tr>\n",
       "      <th>Rajajinagar</th>\n",
       "      <td>10</td>\n",
       "      <td>4</td>\n",
       "      <td>258</td>\n",
       "      <td>55</td>\n",
       "      <td>251</td>\n",
       "      <td>3</td>\n",
       "      <td>10</td>\n",
       "    </tr>\n",
       "    <tr>\n",
       "      <th>Residency Road</th>\n",
       "      <td>20</td>\n",
       "      <td>31</td>\n",
       "      <td>187</td>\n",
       "      <td>63</td>\n",
       "      <td>289</td>\n",
       "      <td>55</td>\n",
       "      <td>26</td>\n",
       "    </tr>\n",
       "    <tr>\n",
       "      <th>Richmond Road</th>\n",
       "      <td>63</td>\n",
       "      <td>21</td>\n",
       "      <td>257</td>\n",
       "      <td>78</td>\n",
       "      <td>356</td>\n",
       "      <td>16</td>\n",
       "      <td>12</td>\n",
       "    </tr>\n",
       "    <tr>\n",
       "      <th>Sarjapur Road</th>\n",
       "      <td>25</td>\n",
       "      <td>22</td>\n",
       "      <td>558</td>\n",
       "      <td>82</td>\n",
       "      <td>319</td>\n",
       "      <td>19</td>\n",
       "      <td>22</td>\n",
       "    </tr>\n",
       "    <tr>\n",
       "      <th>Shanti Nagar</th>\n",
       "      <td>9</td>\n",
       "      <td>22</td>\n",
       "      <td>198</td>\n",
       "      <td>39</td>\n",
       "      <td>229</td>\n",
       "      <td>9</td>\n",
       "      <td>2</td>\n",
       "    </tr>\n",
       "    <tr>\n",
       "      <th>Ulsoor</th>\n",
       "      <td>16</td>\n",
       "      <td>56</td>\n",
       "      <td>456</td>\n",
       "      <td>71</td>\n",
       "      <td>359</td>\n",
       "      <td>23</td>\n",
       "      <td>30</td>\n",
       "    </tr>\n",
       "    <tr>\n",
       "      <th>Whitefield</th>\n",
       "      <td>28</td>\n",
       "      <td>51</td>\n",
       "      <td>1041</td>\n",
       "      <td>137</td>\n",
       "      <td>768</td>\n",
       "      <td>47</td>\n",
       "      <td>33</td>\n",
       "    </tr>\n",
       "    <tr>\n",
       "      <th>other locations</th>\n",
       "      <td>150</td>\n",
       "      <td>225</td>\n",
       "      <td>4062</td>\n",
       "      <td>512</td>\n",
       "      <td>2792</td>\n",
       "      <td>162</td>\n",
       "      <td>104</td>\n",
       "    </tr>\n",
       "  </tbody>\n",
       "</table>\n",
       "</div>"
      ],
      "text/plain": [
       "                        name                                   \\\n",
       "listed_in(type)       Buffet Cafes Delivery Desserts Dine-out   \n",
       "location                                                        \n",
       "BTM                       21    83     3053      198     1660   \n",
       "Banashankari               7    36      418       71      356   \n",
       "Banaswadi                  0    24      310       37      262   \n",
       "Bannerghatta Road          9    46      828      137      578   \n",
       "Basavanagudi               7    11      344       66      251   \n",
       "Bellandur                 28    36      617       75      479   \n",
       "Brigade Road              25    46      497      108      455   \n",
       "Brookefield                6    17      339       45      245   \n",
       "Church Street             19    51      193       29      215   \n",
       "Electronic City           23    24      570       71      516   \n",
       "Frazer Town                1    11      470       56      172   \n",
       "HSR                       19    49     1694      120      580   \n",
       "Indiranagar               38    97     1091      140      529   \n",
       "JP Nagar                  45    76     1151      166      722   \n",
       "Jayanagar                 27    77     1043      182      575   \n",
       "Kalyan Nagar               9    45      366       88      315   \n",
       "Kammanahalli               2    27      329       35      240   \n",
       "Koramangala 1st Block      3    26      716       70      398   \n",
       "Koramangala 4th Block     21    53      464       81      302   \n",
       "Koramangala 5th Block     65   146     1075      209      842   \n",
       "Koramangala 6th Block     18    43      511       70      411   \n",
       "Koramangala 7th Block     25    52      503      127      417   \n",
       "Lavelle Road              30    27      127       50      191   \n",
       "MG Road                   51    76      266       68      343   \n",
       "Malleshwaram              11    31      269       85      291   \n",
       "Marathahalli              34    32      980      105      630   \n",
       "New BEL Road               4    29      338       33      224   \n",
       "Rajajinagar               10     4      258       55      251   \n",
       "Residency Road            20    31      187       63      289   \n",
       "Richmond Road             63    21      257       78      356   \n",
       "Sarjapur Road             25    22      558       82      319   \n",
       "Shanti Nagar               9    22      198       39      229   \n",
       "Ulsoor                    16    56      456       71      359   \n",
       "Whitefield                28    51     1041      137      768   \n",
       "other locations          150   225     4062      512     2792   \n",
       "\n",
       "                                                        \n",
       "listed_in(type)       Drinks & nightlife Pubs and bars  \n",
       "location                                                \n",
       "BTM                                   22            19  \n",
       "Banashankari                          14             0  \n",
       "Banaswadi                              6             1  \n",
       "Bannerghatta Road                      9             2  \n",
       "Basavanagudi                           5             0  \n",
       "Bellandur                             17            16  \n",
       "Brigade Road                          57            22  \n",
       "Brookefield                            4             0  \n",
       "Church Street                         36            23  \n",
       "Electronic City                       21            21  \n",
       "Frazer Town                            2             2  \n",
       "HSR                                   14            18  \n",
       "Indiranagar                           65            66  \n",
       "JP Nagar                              51             7  \n",
       "Jayanagar                             12             0  \n",
       "Kalyan Nagar                          18             0  \n",
       "Kammanahalli                           6             0  \n",
       "Koramangala 1st Block                  7            16  \n",
       "Koramangala 4th Block                 62            34  \n",
       "Koramangala 5th Block                 84            58  \n",
       "Koramangala 6th Block                 51            23  \n",
       "Koramangala 7th Block                 25            25  \n",
       "Lavelle Road                          59            34  \n",
       "MG Road                               53            36  \n",
       "Malleshwaram                          20            14  \n",
       "Marathahalli                          22             2  \n",
       "New BEL Road                           8             8  \n",
       "Rajajinagar                            3            10  \n",
       "Residency Road                        55            26  \n",
       "Richmond Road                         16            12  \n",
       "Sarjapur Road                         19            22  \n",
       "Shanti Nagar                           9             2  \n",
       "Ulsoor                                23            30  \n",
       "Whitefield                            47            33  \n",
       "other locations                      162           104  "
      ]
     },
     "execution_count": 86,
     "metadata": {},
     "output_type": "execute_result"
    }
   ],
   "source": [
    "loc_type_df"
   ]
  },
  {
   "cell_type": "code",
   "execution_count": 87,
   "id": "5cf5965a",
   "metadata": {},
   "outputs": [
    {
     "data": {
      "text/plain": [
       "Text(0, 0.5, 'no of restaurants')"
      ]
     },
     "execution_count": 87,
     "metadata": {},
     "output_type": "execute_result"
    },
    {
     "data": {
      "image/png": "[encoded data removed]",
      "text/plain": [
       "<Figure size 2700x700 with 1 Axes>"
      ]
     },
     "metadata": {},
     "output_type": "display_data"
    }
   ],
   "source": [
    "# ploting bar plot to get better visualization\n",
    "\n",
    " \n",
    "loc_type_df.plot(kind = 'bar', figsize=(27,7))\n",
    "plt.ylabel('no of restaurants')"
   ]
  },
  {
   "cell_type": "markdown",
   "id": "c2ea0277",
   "metadata": {},
   "source": [
    "Observations= By above plot we can get better analysis about how many restaurants types are listed in different location with there names on it."
   ]
  },
  {
   "cell_type": "markdown",
   "id": "2a8d6cd5",
   "metadata": {},
   "source": [
    "## 15) Checking which location got most of votes"
   ]
  },
  {
   "cell_type": "code",
   "execution_count": 89,
   "id": "4212a408",
   "metadata": {},
   "outputs": [
    {
     "data": {
      "text/html": [
       "<div>\n",
       "<style scoped>\n",
       "    .dataframe tbody tr th:only-of-type {\n",
       "        vertical-align: middle;\n",
       "    }\n",
       "\n",
       "    .dataframe tbody tr th {\n",
       "        vertical-align: top;\n",
       "    }\n",
       "\n",
       "    .dataframe thead th {\n",
       "        text-align: right;\n",
       "    }\n",
       "</style>\n",
       "<table border=\"1\" class=\"dataframe\">\n",
       "  <thead>\n",
       "    <tr style=\"text-align: right;\">\n",
       "      <th></th>\n",
       "      <th>votes</th>\n",
       "      <th>location</th>\n",
       "    </tr>\n",
       "  </thead>\n",
       "  <tbody>\n",
       "    <tr>\n",
       "      <th>0</th>\n",
       "      <td>775</td>\n",
       "      <td>Banashankari</td>\n",
       "    </tr>\n",
       "    <tr>\n",
       "      <th>1</th>\n",
       "      <td>787</td>\n",
       "      <td>Banashankari</td>\n",
       "    </tr>\n",
       "    <tr>\n",
       "      <th>2</th>\n",
       "      <td>918</td>\n",
       "      <td>Banashankari</td>\n",
       "    </tr>\n",
       "    <tr>\n",
       "      <th>3</th>\n",
       "      <td>88</td>\n",
       "      <td>Banashankari</td>\n",
       "    </tr>\n",
       "    <tr>\n",
       "      <th>4</th>\n",
       "      <td>166</td>\n",
       "      <td>Basavanagudi</td>\n",
       "    </tr>\n",
       "    <tr>\n",
       "      <th>...</th>\n",
       "      <td>...</td>\n",
       "      <td>...</td>\n",
       "    </tr>\n",
       "    <tr>\n",
       "      <th>51328</th>\n",
       "      <td>152</td>\n",
       "      <td>Whitefield</td>\n",
       "    </tr>\n",
       "    <tr>\n",
       "      <th>51547</th>\n",
       "      <td>203</td>\n",
       "      <td>Whitefield</td>\n",
       "    </tr>\n",
       "    <tr>\n",
       "      <th>51606</th>\n",
       "      <td>848</td>\n",
       "      <td>other locations</td>\n",
       "    </tr>\n",
       "    <tr>\n",
       "      <th>51628</th>\n",
       "      <td>411</td>\n",
       "      <td>Bellandur</td>\n",
       "    </tr>\n",
       "    <tr>\n",
       "      <th>51677</th>\n",
       "      <td>81</td>\n",
       "      <td>Whitefield</td>\n",
       "    </tr>\n",
       "  </tbody>\n",
       "</table>\n",
       "<p>9104 rows × 2 columns</p>\n",
       "</div>"
      ],
      "text/plain": [
       "       votes         location\n",
       "0        775     Banashankari\n",
       "1        787     Banashankari\n",
       "2        918     Banashankari\n",
       "3         88     Banashankari\n",
       "4        166     Basavanagudi\n",
       "...      ...              ...\n",
       "51328    152       Whitefield\n",
       "51547    203       Whitefield\n",
       "51606    848  other locations\n",
       "51628    411        Bellandur\n",
       "51677     81       Whitefield\n",
       "\n",
       "[9104 rows x 2 columns]"
      ]
     },
     "execution_count": 89,
     "metadata": {},
     "output_type": "execute_result"
    }
   ],
   "source": [
    "# making \"location\" column and \"votes\" column in one dataframe\n",
    "\n",
    "loc_votes_df =df[['votes','location']]\n",
    "\n",
    "# there are some duplicates values of number of  restaurants in location\n",
    "# So Dropping duplicate values\n",
    "loc_votes_df.drop_duplicates()"
   ]
  },
  {
   "cell_type": "code",
   "execution_count": 90,
   "id": "9f23a6fd",
   "metadata": {},
   "outputs": [],
   "source": [
    "loc_votes_df2=loc_votes_df.groupby(['location'])['votes'].sum()        \n",
    "# summing all the votes for that perticular location\n",
    "\n",
    "loc_votes_df2=loc_votes_df2.to_frame()"
   ]
  },
  {
   "cell_type": "code",
   "execution_count": 91,
   "id": "e1d64b74",
   "metadata": {},
   "outputs": [
    {
     "data": {
      "text/html": [
       "<div>\n",
       "<style scoped>\n",
       "    .dataframe tbody tr th:only-of-type {\n",
       "        vertical-align: middle;\n",
       "    }\n",
       "\n",
       "    .dataframe tbody tr th {\n",
       "        vertical-align: top;\n",
       "    }\n",
       "\n",
       "    .dataframe thead th {\n",
       "        text-align: right;\n",
       "    }\n",
       "</style>\n",
       "<table border=\"1\" class=\"dataframe\">\n",
       "  <thead>\n",
       "    <tr style=\"text-align: right;\">\n",
       "      <th></th>\n",
       "      <th>votes</th>\n",
       "    </tr>\n",
       "    <tr>\n",
       "      <th>location</th>\n",
       "      <th></th>\n",
       "    </tr>\n",
       "  </thead>\n",
       "  <tbody>\n",
       "    <tr>\n",
       "      <th>BTM</th>\n",
       "      <td>573668</td>\n",
       "    </tr>\n",
       "    <tr>\n",
       "      <th>Banashankari</th>\n",
       "      <td>162374</td>\n",
       "    </tr>\n",
       "    <tr>\n",
       "      <th>Banaswadi</th>\n",
       "      <td>34845</td>\n",
       "    </tr>\n",
       "    <tr>\n",
       "      <th>Bannerghatta Road</th>\n",
       "      <td>214989</td>\n",
       "    </tr>\n",
       "    <tr>\n",
       "      <th>Basavanagudi</th>\n",
       "      <td>94919</td>\n",
       "    </tr>\n",
       "  </tbody>\n",
       "</table>\n",
       "</div>"
      ],
      "text/plain": [
       "                    votes\n",
       "location                 \n",
       "BTM                573668\n",
       "Banashankari       162374\n",
       "Banaswadi           34845\n",
       "Bannerghatta Road  214989\n",
       "Basavanagudi        94919"
      ]
     },
     "execution_count": 91,
     "metadata": {},
     "output_type": "execute_result"
    }
   ],
   "source": [
    "loc_votes_df2.head()"
   ]
  },
  {
   "cell_type": "code",
   "execution_count": 92,
   "id": "1c53fe40",
   "metadata": {},
   "outputs": [
    {
     "data": {
      "image/png": "[encoded data removed]",
      "text/plain": [
       "<Figure size 2700x800 with 1 Axes>"
      ]
     },
     "metadata": {},
     "output_type": "display_data"
    }
   ],
   "source": [
    "plt.figure(figsize= (27,8))\n",
    "sns.barplot(x= loc_votes_df2.index,y= loc_votes_df2['votes'] )\n",
    "plt.xticks(rotation=90)       ## Rotation used to not overlap values\n",
    "plt.show()"
   ]
  },
  {
   "cell_type": "markdown",
   "id": "435ca90e",
   "metadata": {},
   "source": [
    "Observations =\n",
    "\n",
    "1) Here in graph Votes are in 10^6\n",
    "\n",
    "2) So highest number of votes are from location \"Koramangala 5th Block\" is 2214083\n",
    "\n",
    "3) and least number of votes are from \"Banaswadi\" location"
   ]
  },
  {
   "cell_type": "markdown",
   "id": "956f2457",
   "metadata": {},
   "source": [
    "## 16) Checking which cuisines got how much votes\n",
    "\n",
    "Grouping \"Votes\" and \"cuisines\" feature"
   ]
  },
  {
   "cell_type": "code",
   "execution_count": 93,
   "id": "e40b6d3f",
   "metadata": {},
   "outputs": [],
   "source": [
    "# creating dataframe\n",
    "\n",
    "cuisines_votes_df = df[['votes','cuisines']]"
   ]
  },
  {
   "cell_type": "code",
   "execution_count": 94,
   "id": "4728dfa5",
   "metadata": {},
   "outputs": [
    {
     "data": {
      "text/html": [
       "<div>\n",
       "<style scoped>\n",
       "    .dataframe tbody tr th:only-of-type {\n",
       "        vertical-align: middle;\n",
       "    }\n",
       "\n",
       "    .dataframe tbody tr th {\n",
       "        vertical-align: top;\n",
       "    }\n",
       "\n",
       "    .dataframe thead th {\n",
       "        text-align: right;\n",
       "    }\n",
       "</style>\n",
       "<table border=\"1\" class=\"dataframe\">\n",
       "  <thead>\n",
       "    <tr style=\"text-align: right;\">\n",
       "      <th></th>\n",
       "      <th>votes</th>\n",
       "      <th>cuisines</th>\n",
       "    </tr>\n",
       "  </thead>\n",
       "  <tbody>\n",
       "    <tr>\n",
       "      <th>0</th>\n",
       "      <td>775</td>\n",
       "      <td>North Indian, Mughlai, Chinese</td>\n",
       "    </tr>\n",
       "    <tr>\n",
       "      <th>1</th>\n",
       "      <td>787</td>\n",
       "      <td>less_num_cuisines</td>\n",
       "    </tr>\n",
       "    <tr>\n",
       "      <th>2</th>\n",
       "      <td>918</td>\n",
       "      <td>less_num_cuisines</td>\n",
       "    </tr>\n",
       "    <tr>\n",
       "      <th>3</th>\n",
       "      <td>88</td>\n",
       "      <td>South Indian, North Indian</td>\n",
       "    </tr>\n",
       "    <tr>\n",
       "      <th>4</th>\n",
       "      <td>166</td>\n",
       "      <td>less_num_cuisines</td>\n",
       "    </tr>\n",
       "    <tr>\n",
       "      <th>...</th>\n",
       "      <td>...</td>\n",
       "      <td>...</td>\n",
       "    </tr>\n",
       "    <tr>\n",
       "      <th>51712</th>\n",
       "      <td>27</td>\n",
       "      <td>Continental</td>\n",
       "    </tr>\n",
       "    <tr>\n",
       "      <th>51713</th>\n",
       "      <td>0</td>\n",
       "      <td>Finger Food</td>\n",
       "    </tr>\n",
       "    <tr>\n",
       "      <th>51714</th>\n",
       "      <td>0</td>\n",
       "      <td>Finger Food</td>\n",
       "    </tr>\n",
       "    <tr>\n",
       "      <th>51715</th>\n",
       "      <td>236</td>\n",
       "      <td>Finger Food</td>\n",
       "    </tr>\n",
       "    <tr>\n",
       "      <th>51716</th>\n",
       "      <td>13</td>\n",
       "      <td>less_num_cuisines</td>\n",
       "    </tr>\n",
       "  </tbody>\n",
       "</table>\n",
       "<p>51042 rows × 2 columns</p>\n",
       "</div>"
      ],
      "text/plain": [
       "       votes                        cuisines\n",
       "0        775  North Indian, Mughlai, Chinese\n",
       "1        787               less_num_cuisines\n",
       "2        918               less_num_cuisines\n",
       "3         88      South Indian, North Indian\n",
       "4        166               less_num_cuisines\n",
       "...      ...                             ...\n",
       "51712     27                     Continental\n",
       "51713      0                     Finger Food\n",
       "51714      0                     Finger Food\n",
       "51715    236                     Finger Food\n",
       "51716     13               less_num_cuisines\n",
       "\n",
       "[51042 rows x 2 columns]"
      ]
     },
     "execution_count": 94,
     "metadata": {},
     "output_type": "execute_result"
    }
   ],
   "source": [
    "cuisines_votes_df"
   ]
  },
  {
   "cell_type": "code",
   "execution_count": 95,
   "id": "55678142",
   "metadata": {},
   "outputs": [
    {
     "data": {
      "text/html": [
       "<div>\n",
       "<style scoped>\n",
       "    .dataframe tbody tr th:only-of-type {\n",
       "        vertical-align: middle;\n",
       "    }\n",
       "\n",
       "    .dataframe tbody tr th {\n",
       "        vertical-align: top;\n",
       "    }\n",
       "\n",
       "    .dataframe thead th {\n",
       "        text-align: right;\n",
       "    }\n",
       "</style>\n",
       "<table border=\"1\" class=\"dataframe\">\n",
       "  <thead>\n",
       "    <tr style=\"text-align: right;\">\n",
       "      <th></th>\n",
       "      <th>votes</th>\n",
       "      <th>cuisines</th>\n",
       "    </tr>\n",
       "  </thead>\n",
       "  <tbody>\n",
       "    <tr>\n",
       "      <th>0</th>\n",
       "      <td>775</td>\n",
       "      <td>North Indian, Mughlai, Chinese</td>\n",
       "    </tr>\n",
       "    <tr>\n",
       "      <th>1</th>\n",
       "      <td>787</td>\n",
       "      <td>less_num_cuisines</td>\n",
       "    </tr>\n",
       "    <tr>\n",
       "      <th>2</th>\n",
       "      <td>918</td>\n",
       "      <td>less_num_cuisines</td>\n",
       "    </tr>\n",
       "    <tr>\n",
       "      <th>3</th>\n",
       "      <td>88</td>\n",
       "      <td>South Indian, North Indian</td>\n",
       "    </tr>\n",
       "    <tr>\n",
       "      <th>4</th>\n",
       "      <td>166</td>\n",
       "      <td>less_num_cuisines</td>\n",
       "    </tr>\n",
       "    <tr>\n",
       "      <th>...</th>\n",
       "      <td>...</td>\n",
       "      <td>...</td>\n",
       "    </tr>\n",
       "    <tr>\n",
       "      <th>51547</th>\n",
       "      <td>203</td>\n",
       "      <td>South Indian, North Indian, Chinese</td>\n",
       "    </tr>\n",
       "    <tr>\n",
       "      <th>51555</th>\n",
       "      <td>8</td>\n",
       "      <td>South Indian, Fast Food</td>\n",
       "    </tr>\n",
       "    <tr>\n",
       "      <th>51590</th>\n",
       "      <td>515</td>\n",
       "      <td>North Indian, Chinese</td>\n",
       "    </tr>\n",
       "    <tr>\n",
       "      <th>51607</th>\n",
       "      <td>236</td>\n",
       "      <td>Finger Food</td>\n",
       "    </tr>\n",
       "    <tr>\n",
       "      <th>51611</th>\n",
       "      <td>73</td>\n",
       "      <td>Chinese, Momos</td>\n",
       "    </tr>\n",
       "  </tbody>\n",
       "</table>\n",
       "<p>7040 rows × 2 columns</p>\n",
       "</div>"
      ],
      "text/plain": [
       "       votes                             cuisines\n",
       "0        775       North Indian, Mughlai, Chinese\n",
       "1        787                    less_num_cuisines\n",
       "2        918                    less_num_cuisines\n",
       "3         88           South Indian, North Indian\n",
       "4        166                    less_num_cuisines\n",
       "...      ...                                  ...\n",
       "51547    203  South Indian, North Indian, Chinese\n",
       "51555      8              South Indian, Fast Food\n",
       "51590    515                North Indian, Chinese\n",
       "51607    236                          Finger Food\n",
       "51611     73                       Chinese, Momos\n",
       "\n",
       "[7040 rows x 2 columns]"
      ]
     },
     "execution_count": 95,
     "metadata": {},
     "output_type": "execute_result"
    }
   ],
   "source": [
    "# Droping Duplicates\n",
    "\n",
    "cuisines_votes_df.drop_duplicates()"
   ]
  },
  {
   "cell_type": "code",
   "execution_count": 96,
   "id": "3978bcdd",
   "metadata": {},
   "outputs": [
    {
     "data": {
      "text/plain": [
       "cuisines\n",
       "Andhra                                                 12299\n",
       "Andhra, Biryani                                        40339\n",
       "Arabian                                                16529\n",
       "Bakery                                                 13148\n",
       "Bakery, Desserts                                       45464\n",
       "                                                      ...   \n",
       "South Indian, North Indian                             14250\n",
       "South Indian, North Indian, Chinese                    53586\n",
       "South Indian, North Indian, Chinese, Street Food       33636\n",
       "Street Food                                            11877\n",
       "less_num_cuisines                                   11542182\n",
       "Name: votes, Length: 70, dtype: int64"
      ]
     },
     "execution_count": 96,
     "metadata": {},
     "output_type": "execute_result"
    }
   ],
   "source": [
    "cuisines_votes_df2 = cuisines_votes_df.groupby(['cuisines'])['votes'].sum()\n",
    "cuisines_votes_df2"
   ]
  },
  {
   "cell_type": "code",
   "execution_count": 97,
   "id": "778ced7c",
   "metadata": {},
   "outputs": [],
   "source": [
    "cuisines_votes_df2 = cuisines_votes_df2.to_frame()            ## Converting it into dataframe"
   ]
  },
  {
   "cell_type": "code",
   "execution_count": 98,
   "id": "afc6b7ad",
   "metadata": {},
   "outputs": [
    {
     "data": {
      "text/html": [
       "<div>\n",
       "<style scoped>\n",
       "    .dataframe tbody tr th:only-of-type {\n",
       "        vertical-align: middle;\n",
       "    }\n",
       "\n",
       "    .dataframe tbody tr th {\n",
       "        vertical-align: top;\n",
       "    }\n",
       "\n",
       "    .dataframe thead th {\n",
       "        text-align: right;\n",
       "    }\n",
       "</style>\n",
       "<table border=\"1\" class=\"dataframe\">\n",
       "  <thead>\n",
       "    <tr style=\"text-align: right;\">\n",
       "      <th></th>\n",
       "      <th>votes</th>\n",
       "    </tr>\n",
       "    <tr>\n",
       "      <th>cuisines</th>\n",
       "      <th></th>\n",
       "    </tr>\n",
       "  </thead>\n",
       "  <tbody>\n",
       "    <tr>\n",
       "      <th>Andhra</th>\n",
       "      <td>12299</td>\n",
       "    </tr>\n",
       "    <tr>\n",
       "      <th>Andhra, Biryani</th>\n",
       "      <td>40339</td>\n",
       "    </tr>\n",
       "    <tr>\n",
       "      <th>Arabian</th>\n",
       "      <td>16529</td>\n",
       "    </tr>\n",
       "    <tr>\n",
       "      <th>Bakery</th>\n",
       "      <td>13148</td>\n",
       "    </tr>\n",
       "    <tr>\n",
       "      <th>Bakery, Desserts</th>\n",
       "      <td>45464</td>\n",
       "    </tr>\n",
       "  </tbody>\n",
       "</table>\n",
       "</div>"
      ],
      "text/plain": [
       "                  votes\n",
       "cuisines               \n",
       "Andhra            12299\n",
       "Andhra, Biryani   40339\n",
       "Arabian           16529\n",
       "Bakery            13148\n",
       "Bakery, Desserts  45464"
      ]
     },
     "execution_count": 98,
     "metadata": {},
     "output_type": "execute_result"
    }
   ],
   "source": [
    "cuisines_votes_df2.head()"
   ]
  },
  {
   "cell_type": "code",
   "execution_count": 99,
   "id": "8974c0eb",
   "metadata": {},
   "outputs": [
    {
     "data": {
      "text/html": [
       "<div>\n",
       "<style scoped>\n",
       "    .dataframe tbody tr th:only-of-type {\n",
       "        vertical-align: middle;\n",
       "    }\n",
       "\n",
       "    .dataframe tbody tr th {\n",
       "        vertical-align: top;\n",
       "    }\n",
       "\n",
       "    .dataframe thead th {\n",
       "        text-align: right;\n",
       "    }\n",
       "</style>\n",
       "<table border=\"1\" class=\"dataframe\">\n",
       "  <thead>\n",
       "    <tr style=\"text-align: right;\">\n",
       "      <th></th>\n",
       "      <th>votes</th>\n",
       "    </tr>\n",
       "    <tr>\n",
       "      <th>cuisines</th>\n",
       "      <th></th>\n",
       "    </tr>\n",
       "  </thead>\n",
       "  <tbody>\n",
       "    <tr>\n",
       "      <th>less_num_cuisines</th>\n",
       "      <td>11542182</td>\n",
       "    </tr>\n",
       "    <tr>\n",
       "      <th>North Indian</th>\n",
       "      <td>516310</td>\n",
       "    </tr>\n",
       "    <tr>\n",
       "      <th>North Indian, Chinese</th>\n",
       "      <td>258225</td>\n",
       "    </tr>\n",
       "    <tr>\n",
       "      <th>South Indian</th>\n",
       "      <td>161975</td>\n",
       "    </tr>\n",
       "    <tr>\n",
       "      <th>North Indian, Mughlai</th>\n",
       "      <td>103706</td>\n",
       "    </tr>\n",
       "  </tbody>\n",
       "</table>\n",
       "</div>"
      ],
      "text/plain": [
       "                          votes\n",
       "cuisines                       \n",
       "less_num_cuisines      11542182\n",
       "North Indian             516310\n",
       "North Indian, Chinese    258225\n",
       "South Indian             161975\n",
       "North Indian, Mughlai    103706"
      ]
     },
     "execution_count": 99,
     "metadata": {},
     "output_type": "execute_result"
    }
   ],
   "source": [
    "cuisines_votes_df2= cuisines_votes_df2.sort_values('votes',ascending=False)\n",
    "cuisines_votes_df2.head()"
   ]
  },
  {
   "cell_type": "code",
   "execution_count": 100,
   "id": "5fb658e8",
   "metadata": {},
   "outputs": [],
   "source": [
    "# Removing first row i.e. \"less_num_cuisines\" becoz it will get biased visualization\n",
    "cuisines_votes_df2= cuisines_votes_df2.iloc[1: , :]"
   ]
  },
  {
   "cell_type": "code",
   "execution_count": 101,
   "id": "03a6fbd0",
   "metadata": {},
   "outputs": [
    {
     "data": {
      "text/html": [
       "<div>\n",
       "<style scoped>\n",
       "    .dataframe tbody tr th:only-of-type {\n",
       "        vertical-align: middle;\n",
       "    }\n",
       "\n",
       "    .dataframe tbody tr th {\n",
       "        vertical-align: top;\n",
       "    }\n",
       "\n",
       "    .dataframe thead th {\n",
       "        text-align: right;\n",
       "    }\n",
       "</style>\n",
       "<table border=\"1\" class=\"dataframe\">\n",
       "  <thead>\n",
       "    <tr style=\"text-align: right;\">\n",
       "      <th></th>\n",
       "      <th>votes</th>\n",
       "    </tr>\n",
       "    <tr>\n",
       "      <th>cuisines</th>\n",
       "      <th></th>\n",
       "    </tr>\n",
       "  </thead>\n",
       "  <tbody>\n",
       "    <tr>\n",
       "      <th>North Indian</th>\n",
       "      <td>516310</td>\n",
       "    </tr>\n",
       "    <tr>\n",
       "      <th>North Indian, Chinese</th>\n",
       "      <td>258225</td>\n",
       "    </tr>\n",
       "    <tr>\n",
       "      <th>South Indian</th>\n",
       "      <td>161975</td>\n",
       "    </tr>\n",
       "    <tr>\n",
       "      <th>North Indian, Mughlai</th>\n",
       "      <td>103706</td>\n",
       "    </tr>\n",
       "    <tr>\n",
       "      <th>Chinese</th>\n",
       "      <td>101728</td>\n",
       "    </tr>\n",
       "  </tbody>\n",
       "</table>\n",
       "</div>"
      ],
      "text/plain": [
       "                        votes\n",
       "cuisines                     \n",
       "North Indian           516310\n",
       "North Indian, Chinese  258225\n",
       "South Indian           161975\n",
       "North Indian, Mughlai  103706\n",
       "Chinese                101728"
      ]
     },
     "execution_count": 101,
     "metadata": {},
     "output_type": "execute_result"
    }
   ],
   "source": [
    "cuisines_votes_df2.head()"
   ]
  },
  {
   "cell_type": "code",
   "execution_count": 102,
   "id": "c4c2e7aa",
   "metadata": {},
   "outputs": [
    {
     "data": {
      "image/png": "[encoded data removed]",
      "text/plain": [
       "<Figure size 2500x500 with 1 Axes>"
      ]
     },
     "metadata": {},
     "output_type": "display_data"
    }
   ],
   "source": [
    "plt.figure(figsize=(25,5))\n",
    "sns.barplot(x=cuisines_votes_df2.index,y=cuisines_votes_df2['votes'])\n",
    "plt.xticks(rotation=90)\n",
    "plt.show()"
   ]
  },
  {
   "cell_type": "markdown",
   "id": "34cc00ea",
   "metadata": {},
   "source": [
    "Observations =\n",
    "\n",
    "1) from above bar plot we see that for \"North indian\" foods restaurants gets more number of votes i.e. 516310\n",
    "\n",
    "2) for \"north indian chinese\" restaurants gets 258225 votes\n",
    "\n",
    "3) For \"mithai\" food items restaurants gets lowest votings."
   ]
  },
  {
   "cell_type": "code",
   "execution_count": null,
   "id": "cb451a4e",
   "metadata": {},
   "outputs": [],
   "source": []
  }
 ],
 "metadata": {
  "kernelspec": {
   "display_name": "Python 3 (ipykernel)",
   "language": "python",
   "name": "python3"
  },
  "language_info": {
   "codemirror_mode": {
    "name": "ipython",
    "version": 3
   },
   "file_extension": ".py",
   "mimetype": "text/x-python",
   "name": "python",
   "nbconvert_exporter": "python",
   "pygments_lexer": "ipython3",
   "version": "3.9.16"
  }
 },
 "nbformat": 4,
 "nbformat_minor": 5
}
